{
 "cells": [
  {
   "cell_type": "code",
   "execution_count": 1,
   "id": "1f441810",
   "metadata": {
    "tags": []
   },
   "outputs": [],
   "source": [
    "# In the previous file that is content based recommender engine I don't have the users and ratings they gave to each movie\n",
    "# So now in this filtering I am going to use new dataset "
   ]
  },
  {
   "cell_type": "markdown",
   "id": "ea28e007",
   "metadata": {},
   "source": [
    "# Collaborative filtering"
   ]
  },
  {
   "cell_type": "code",
   "execution_count": 2,
   "id": "e7bcba8d",
   "metadata": {
    "tags": []
   },
   "outputs": [],
   "source": [
    "# importing all the necessary libraries\n",
    "\n",
    "# for basic Operations\n",
    "import pandas as pd\n",
    "import numpy as np\n",
    "\n",
    "# For Data Visualization\n",
    "import seaborn as sns\n",
    "\n",
    "from ast import literal_eval\n",
    "\n",
    "# For Cosine Similarity\n",
    "from sklearn.metrics.pairwise import cosine_similarity\n",
    "from sklearn.neighbors import NearestNeighbors\n",
    "\n",
    "\n",
    "\n",
    "# for converting pivot table to 2D array\n",
    "from scipy.sparse import csr_matrix\n",
    "\n",
    "# For ignoring warning\n",
    "import warnings; warnings.simplefilter('ignore')\n",
    "\n",
    "\n",
    "# for Interactive Analysis(@interact)\n",
    "import ipywidgets as widgets\n",
    "from ipywidgets import *\n",
    "from ipywidgets import interact"
   ]
  },
  {
   "cell_type": "code",
   "execution_count": 3,
   "id": "f03e7d33",
   "metadata": {
    "tags": []
   },
   "outputs": [
    {
     "data": {
      "text/plain": [
       "(9125, 3)"
      ]
     },
     "execution_count": 3,
     "metadata": {},
     "output_type": "execute_result"
    }
   ],
   "source": [
    "# Lets Read the Movies Dataset\n",
    "movies_url = 'https://raw.githubusercontent.com/susanli2016/Machine-Learning-with-Python/master/movielens_data/movies.csv'\n",
    "movies = pd.read_csv(movies_url)\n",
    "\n",
    "# lets check the shape of the movies dataset\n",
    "movies.shape"
   ]
  },
  {
   "cell_type": "code",
   "execution_count": 4,
   "id": "c6a4f564",
   "metadata": {
    "tags": []
   },
   "outputs": [
    {
     "data": {
      "text/html": [
       "<div>\n",
       "<style scoped>\n",
       "    .dataframe tbody tr th:only-of-type {\n",
       "        vertical-align: middle;\n",
       "    }\n",
       "\n",
       "    .dataframe tbody tr th {\n",
       "        vertical-align: top;\n",
       "    }\n",
       "\n",
       "    .dataframe thead th {\n",
       "        text-align: right;\n",
       "    }\n",
       "</style>\n",
       "<table border=\"1\" class=\"dataframe\">\n",
       "  <thead>\n",
       "    <tr style=\"text-align: right;\">\n",
       "      <th></th>\n",
       "      <th>movieId</th>\n",
       "      <th>title</th>\n",
       "      <th>genres</th>\n",
       "    </tr>\n",
       "  </thead>\n",
       "  <tbody>\n",
       "    <tr>\n",
       "      <th>0</th>\n",
       "      <td>1</td>\n",
       "      <td>Toy Story (1995)</td>\n",
       "      <td>Adventure|Animation|Children|Comedy|Fantasy</td>\n",
       "    </tr>\n",
       "    <tr>\n",
       "      <th>1</th>\n",
       "      <td>2</td>\n",
       "      <td>Jumanji (1995)</td>\n",
       "      <td>Adventure|Children|Fantasy</td>\n",
       "    </tr>\n",
       "    <tr>\n",
       "      <th>2</th>\n",
       "      <td>3</td>\n",
       "      <td>Grumpier Old Men (1995)</td>\n",
       "      <td>Comedy|Romance</td>\n",
       "    </tr>\n",
       "    <tr>\n",
       "      <th>3</th>\n",
       "      <td>4</td>\n",
       "      <td>Waiting to Exhale (1995)</td>\n",
       "      <td>Comedy|Drama|Romance</td>\n",
       "    </tr>\n",
       "    <tr>\n",
       "      <th>4</th>\n",
       "      <td>5</td>\n",
       "      <td>Father of the Bride Part II (1995)</td>\n",
       "      <td>Comedy</td>\n",
       "    </tr>\n",
       "  </tbody>\n",
       "</table>\n",
       "</div>"
      ],
      "text/plain": [
       "   movieId                               title  \\\n",
       "0        1                    Toy Story (1995)   \n",
       "1        2                      Jumanji (1995)   \n",
       "2        3             Grumpier Old Men (1995)   \n",
       "3        4            Waiting to Exhale (1995)   \n",
       "4        5  Father of the Bride Part II (1995)   \n",
       "\n",
       "                                        genres  \n",
       "0  Adventure|Animation|Children|Comedy|Fantasy  \n",
       "1                   Adventure|Children|Fantasy  \n",
       "2                               Comedy|Romance  \n",
       "3                         Comedy|Drama|Romance  \n",
       "4                                       Comedy  "
      ]
     },
     "execution_count": 4,
     "metadata": {},
     "output_type": "execute_result"
    }
   ],
   "source": [
    "# checking the movie datset\n",
    "movies.head()"
   ]
  },
  {
   "cell_type": "code",
   "execution_count": 5,
   "id": "ed288a00",
   "metadata": {
    "tags": []
   },
   "outputs": [
    {
     "data": {
      "text/plain": [
       "0"
      ]
     },
     "execution_count": 5,
     "metadata": {},
     "output_type": "execute_result"
    }
   ],
   "source": [
    "# Checking for any duplicate valuess\n",
    "movies.duplicated().sum()"
   ]
  },
  {
   "cell_type": "code",
   "execution_count": 6,
   "id": "725be7fa",
   "metadata": {
    "tags": []
   },
   "outputs": [
    {
     "data": {
      "text/plain": [
       "movieId    0\n",
       "title      0\n",
       "genres     0\n",
       "dtype: int64"
      ]
     },
     "execution_count": 6,
     "metadata": {},
     "output_type": "execute_result"
    }
   ],
   "source": [
    "# Checking for missing values\n",
    "movies.isnull().sum()"
   ]
  },
  {
   "cell_type": "code",
   "execution_count": 7,
   "id": "49c78a4c",
   "metadata": {
    "tags": []
   },
   "outputs": [
    {
     "data": {
      "text/html": [
       "<div>\n",
       "<style scoped>\n",
       "    .dataframe tbody tr th:only-of-type {\n",
       "        vertical-align: middle;\n",
       "    }\n",
       "\n",
       "    .dataframe tbody tr th {\n",
       "        vertical-align: top;\n",
       "    }\n",
       "\n",
       "    .dataframe thead th {\n",
       "        text-align: right;\n",
       "    }\n",
       "</style>\n",
       "<table border=\"1\" class=\"dataframe\">\n",
       "  <thead>\n",
       "    <tr style=\"text-align: right;\">\n",
       "      <th></th>\n",
       "      <th>userId</th>\n",
       "      <th>movieId</th>\n",
       "      <th>rating</th>\n",
       "      <th>timestamp</th>\n",
       "    </tr>\n",
       "  </thead>\n",
       "  <tbody>\n",
       "    <tr>\n",
       "      <th>0</th>\n",
       "      <td>1</td>\n",
       "      <td>31</td>\n",
       "      <td>2.5</td>\n",
       "      <td>1260759144</td>\n",
       "    </tr>\n",
       "    <tr>\n",
       "      <th>1</th>\n",
       "      <td>1</td>\n",
       "      <td>1029</td>\n",
       "      <td>3.0</td>\n",
       "      <td>1260759179</td>\n",
       "    </tr>\n",
       "    <tr>\n",
       "      <th>2</th>\n",
       "      <td>1</td>\n",
       "      <td>1061</td>\n",
       "      <td>3.0</td>\n",
       "      <td>1260759182</td>\n",
       "    </tr>\n",
       "    <tr>\n",
       "      <th>3</th>\n",
       "      <td>1</td>\n",
       "      <td>1129</td>\n",
       "      <td>2.0</td>\n",
       "      <td>1260759185</td>\n",
       "    </tr>\n",
       "    <tr>\n",
       "      <th>4</th>\n",
       "      <td>1</td>\n",
       "      <td>1172</td>\n",
       "      <td>4.0</td>\n",
       "      <td>1260759205</td>\n",
       "    </tr>\n",
       "  </tbody>\n",
       "</table>\n",
       "</div>"
      ],
      "text/plain": [
       "   userId  movieId  rating   timestamp\n",
       "0       1       31     2.5  1260759144\n",
       "1       1     1029     3.0  1260759179\n",
       "2       1     1061     3.0  1260759182\n",
       "3       1     1129     2.0  1260759185\n",
       "4       1     1172     4.0  1260759205"
      ]
     },
     "execution_count": 7,
     "metadata": {},
     "output_type": "execute_result"
    }
   ],
   "source": [
    "# Lets Read the Ratings Dataset\n",
    "ratings_url = 'https://raw.githubusercontent.com/susanli2016/Machine-Learning-with-Python/master/movielens_data/ratings.csv'\n",
    "ratings = pd.read_csv(ratings_url)\n",
    "\n",
    "# lets check the shape of the dataset\n",
    "ratings.head()"
   ]
  },
  {
   "cell_type": "code",
   "execution_count": 8,
   "id": "624c99f6",
   "metadata": {
    "tags": []
   },
   "outputs": [
    {
     "data": {
      "text/plain": [
       "0"
      ]
     },
     "execution_count": 8,
     "metadata": {},
     "output_type": "execute_result"
    }
   ],
   "source": [
    "ratings.duplicated().sum()"
   ]
  },
  {
   "cell_type": "code",
   "execution_count": 9,
   "id": "105da54e",
   "metadata": {
    "tags": []
   },
   "outputs": [
    {
     "data": {
      "text/plain": [
       "userId       0\n",
       "movieId      0\n",
       "rating       0\n",
       "timestamp    0\n",
       "dtype: int64"
      ]
     },
     "execution_count": 9,
     "metadata": {},
     "output_type": "execute_result"
    }
   ],
   "source": [
    "ratings.isnull().sum()"
   ]
  },
  {
   "cell_type": "code",
   "execution_count": 10,
   "id": "c157038c",
   "metadata": {
    "tags": []
   },
   "outputs": [],
   "source": [
    "ratings = ratings.drop(['timestamp'], axis = 1)"
   ]
  },
  {
   "cell_type": "code",
   "execution_count": 11,
   "id": "af42f610",
   "metadata": {
    "tags": []
   },
   "outputs": [],
   "source": [
    "# As there is common column in both movie and rating dataset i.e movieID\n",
    "# now here, Merging the ratings and movies dataset on the basis of movieId\n",
    "\n",
    "merged_data = pd.merge(ratings, movies, on='movieId')"
   ]
  },
  {
   "cell_type": "code",
   "execution_count": 12,
   "id": "21024477-25cb-4859-a114-7d92a6ca7db3",
   "metadata": {
    "tags": []
   },
   "outputs": [],
   "source": [
    "# Randomly select a movie\n",
    "random_movie_id = merged_data['movieId'].sample().iloc[0]"
   ]
  },
  {
   "cell_type": "code",
   "execution_count": 13,
   "id": "57d09813-8d87-4719-9f6e-f48eb8b25fab",
   "metadata": {
    "tags": []
   },
   "outputs": [],
   "source": [
    "# Filter the dataset for the randomly selected movie\n",
    "selected_movie_data = merged_data[merged_data['movieId'] == random_movie_id]"
   ]
  },
  {
   "cell_type": "code",
   "execution_count": 14,
   "id": "baea0e5c-7f24-4785-9c1a-d981c2c6e050",
   "metadata": {
    "tags": []
   },
   "outputs": [],
   "source": [
    "# Shuffle the rows for the selected movie\n",
    "selected_movie_data = selected_movie_data.sample(frac=1).reset_index(drop=True)"
   ]
  },
  {
   "cell_type": "code",
   "execution_count": 15,
   "id": "a22c0d7a-7c5d-4c5d-832b-74a3d111563c",
   "metadata": {
    "tags": []
   },
   "outputs": [
    {
     "data": {
      "text/html": [
       "<div>\n",
       "<style scoped>\n",
       "    .dataframe tbody tr th:only-of-type {\n",
       "        vertical-align: middle;\n",
       "    }\n",
       "\n",
       "    .dataframe tbody tr th {\n",
       "        vertical-align: top;\n",
       "    }\n",
       "\n",
       "    .dataframe thead th {\n",
       "        text-align: right;\n",
       "    }\n",
       "</style>\n",
       "<table border=\"1\" class=\"dataframe\">\n",
       "  <thead>\n",
       "    <tr style=\"text-align: right;\">\n",
       "      <th></th>\n",
       "      <th>userId</th>\n",
       "      <th>movieId</th>\n",
       "      <th>rating</th>\n",
       "      <th>title</th>\n",
       "      <th>genres</th>\n",
       "    </tr>\n",
       "  </thead>\n",
       "  <tbody>\n",
       "    <tr>\n",
       "      <th>0</th>\n",
       "      <td>243</td>\n",
       "      <td>903</td>\n",
       "      <td>4.0</td>\n",
       "      <td>Vertigo (1958)</td>\n",
       "      <td>Drama|Mystery|Romance|Thriller</td>\n",
       "    </tr>\n",
       "    <tr>\n",
       "      <th>1</th>\n",
       "      <td>580</td>\n",
       "      <td>903</td>\n",
       "      <td>3.5</td>\n",
       "      <td>Vertigo (1958)</td>\n",
       "      <td>Drama|Mystery|Romance|Thriller</td>\n",
       "    </tr>\n",
       "    <tr>\n",
       "      <th>2</th>\n",
       "      <td>605</td>\n",
       "      <td>903</td>\n",
       "      <td>3.0</td>\n",
       "      <td>Vertigo (1958)</td>\n",
       "      <td>Drama|Mystery|Romance|Thriller</td>\n",
       "    </tr>\n",
       "    <tr>\n",
       "      <th>3</th>\n",
       "      <td>635</td>\n",
       "      <td>903</td>\n",
       "      <td>4.0</td>\n",
       "      <td>Vertigo (1958)</td>\n",
       "      <td>Drama|Mystery|Romance|Thriller</td>\n",
       "    </tr>\n",
       "    <tr>\n",
       "      <th>4</th>\n",
       "      <td>119</td>\n",
       "      <td>903</td>\n",
       "      <td>5.0</td>\n",
       "      <td>Vertigo (1958)</td>\n",
       "      <td>Drama|Mystery|Romance|Thriller</td>\n",
       "    </tr>\n",
       "  </tbody>\n",
       "</table>\n",
       "</div>"
      ],
      "text/plain": [
       "   userId  movieId  rating           title                          genres\n",
       "0     243      903     4.0  Vertigo (1958)  Drama|Mystery|Romance|Thriller\n",
       "1     580      903     3.5  Vertigo (1958)  Drama|Mystery|Romance|Thriller\n",
       "2     605      903     3.0  Vertigo (1958)  Drama|Mystery|Romance|Thriller\n",
       "3     635      903     4.0  Vertigo (1958)  Drama|Mystery|Romance|Thriller\n",
       "4     119      903     5.0  Vertigo (1958)  Drama|Mystery|Romance|Thriller"
      ]
     },
     "execution_count": 15,
     "metadata": {},
     "output_type": "execute_result"
    }
   ],
   "source": [
    "# Display the first few rows of the shuffled data for the selected movie\n",
    "# Checking the Merged Data\n",
    "selected_movie_data.head(5)"
   ]
  },
  {
   "cell_type": "code",
   "execution_count": 16,
   "id": "c26850b8",
   "metadata": {
    "tags": []
   },
   "outputs": [],
   "source": [
    "# Now as we can see from our dataset that each movie have different ratings from different users.\n",
    "# So, making a total rating column as different user gave different ratings to a particular movie"
   ]
  },
  {
   "cell_type": "code",
   "execution_count": 17,
   "id": "fe98497f",
   "metadata": {
    "tags": []
   },
   "outputs": [],
   "source": [
    "# making a separate column for total_rating_Count\n",
    "\n",
    "# number of ratings column is made by using couting same title of movies and putting that data in new dataset movie_rating_cout\n",
    "movie_rating_count = merged_data.groupby('title')['rating'].count().reset_index().rename(columns={'rating':'num_rating'})"
   ]
  },
  {
   "cell_type": "code",
   "execution_count": 18,
   "id": "1af09d98",
   "metadata": {
    "tags": []
   },
   "outputs": [
    {
     "data": {
      "text/html": [
       "<div>\n",
       "<style scoped>\n",
       "    .dataframe tbody tr th:only-of-type {\n",
       "        vertical-align: middle;\n",
       "    }\n",
       "\n",
       "    .dataframe tbody tr th {\n",
       "        vertical-align: top;\n",
       "    }\n",
       "\n",
       "    .dataframe thead th {\n",
       "        text-align: right;\n",
       "    }\n",
       "</style>\n",
       "<table border=\"1\" class=\"dataframe\">\n",
       "  <thead>\n",
       "    <tr style=\"text-align: right;\">\n",
       "      <th></th>\n",
       "      <th>title</th>\n",
       "      <th>num_rating</th>\n",
       "    </tr>\n",
       "  </thead>\n",
       "  <tbody>\n",
       "    <tr>\n",
       "      <th>0</th>\n",
       "      <td>\"Great Performances\" Cats (1998)</td>\n",
       "      <td>2</td>\n",
       "    </tr>\n",
       "    <tr>\n",
       "      <th>1</th>\n",
       "      <td>$9.99 (2008)</td>\n",
       "      <td>3</td>\n",
       "    </tr>\n",
       "    <tr>\n",
       "      <th>2</th>\n",
       "      <td>'Hellboy': The Seeds of Creation (2004)</td>\n",
       "      <td>1</td>\n",
       "    </tr>\n",
       "    <tr>\n",
       "      <th>3</th>\n",
       "      <td>'Neath the Arizona Skies (1934)</td>\n",
       "      <td>1</td>\n",
       "    </tr>\n",
       "    <tr>\n",
       "      <th>4</th>\n",
       "      <td>'Round Midnight (1986)</td>\n",
       "      <td>2</td>\n",
       "    </tr>\n",
       "    <tr>\n",
       "      <th>...</th>\n",
       "      <td>...</td>\n",
       "      <td>...</td>\n",
       "    </tr>\n",
       "    <tr>\n",
       "      <th>9059</th>\n",
       "      <td>xXx (2002)</td>\n",
       "      <td>23</td>\n",
       "    </tr>\n",
       "    <tr>\n",
       "      <th>9060</th>\n",
       "      <td>xXx: State of the Union (2005)</td>\n",
       "      <td>1</td>\n",
       "    </tr>\n",
       "    <tr>\n",
       "      <th>9061</th>\n",
       "      <td>¡Three Amigos! (1986)</td>\n",
       "      <td>31</td>\n",
       "    </tr>\n",
       "    <tr>\n",
       "      <th>9062</th>\n",
       "      <td>À nous la liberté (Freedom for Us) (1931)</td>\n",
       "      <td>1</td>\n",
       "    </tr>\n",
       "    <tr>\n",
       "      <th>9063</th>\n",
       "      <td>İtirazım Var (2014)</td>\n",
       "      <td>1</td>\n",
       "    </tr>\n",
       "  </tbody>\n",
       "</table>\n",
       "<p>9064 rows × 2 columns</p>\n",
       "</div>"
      ],
      "text/plain": [
       "                                          title  num_rating\n",
       "0              \"Great Performances\" Cats (1998)           2\n",
       "1                                  $9.99 (2008)           3\n",
       "2       'Hellboy': The Seeds of Creation (2004)           1\n",
       "3               'Neath the Arizona Skies (1934)           1\n",
       "4                        'Round Midnight (1986)           2\n",
       "...                                         ...         ...\n",
       "9059                                 xXx (2002)          23\n",
       "9060             xXx: State of the Union (2005)           1\n",
       "9061                      ¡Three Amigos! (1986)          31\n",
       "9062  À nous la liberté (Freedom for Us) (1931)           1\n",
       "9063                        İtirazım Var (2014)           1\n",
       "\n",
       "[9064 rows x 2 columns]"
      ]
     },
     "execution_count": 18,
     "metadata": {},
     "output_type": "execute_result"
    }
   ],
   "source": [
    "# now checking this dataset\n",
    "\n",
    "movie_rating_count"
   ]
  },
  {
   "cell_type": "code",
   "execution_count": 19,
   "id": "13f7e743",
   "metadata": {
    "tags": []
   },
   "outputs": [
    {
     "data": {
      "text/plain": [
       "0"
      ]
     },
     "execution_count": 19,
     "metadata": {},
     "output_type": "execute_result"
    }
   ],
   "source": [
    "# checking for duplicate values\n",
    "\n",
    "movie_rating_count.duplicated().sum()"
   ]
  },
  {
   "cell_type": "code",
   "execution_count": 20,
   "id": "516678ae",
   "metadata": {
    "tags": []
   },
   "outputs": [
    {
     "data": {
      "text/plain": [
       "title         0\n",
       "num_rating    0\n",
       "dtype: int64"
      ]
     },
     "execution_count": 20,
     "metadata": {},
     "output_type": "execute_result"
    }
   ],
   "source": [
    "# checking for misiing values\n",
    "\n",
    "movie_rating_count.isnull().sum()"
   ]
  },
  {
   "cell_type": "code",
   "execution_count": 21,
   "id": "77ce9eef",
   "metadata": {
    "tags": []
   },
   "outputs": [],
   "source": [
    "# now merging it back into the merge_data and making a final dataset \n",
    "# final = merged_data.merge(movie_rating_count, on='title', how='left')\n",
    "final = merged_data.merge(movie_rating_count, on='title', how='left')"
   ]
  },
  {
   "cell_type": "code",
   "execution_count": 22,
   "id": "4e890623-2216-443b-9682-8c8ae2728f2a",
   "metadata": {
    "tags": []
   },
   "outputs": [],
   "source": [
    "# Randomly select a movie\n",
    "random_movie_title = final['title'].sample().iloc[0]"
   ]
  },
  {
   "cell_type": "code",
   "execution_count": 23,
   "id": "e40ab232-c0d3-4c0f-aeea-2f7d79f9fb7f",
   "metadata": {
    "tags": []
   },
   "outputs": [],
   "source": [
    "# Filter the final dataset for the randomly selected movie\n",
    "selected_movie_data = final[final['title'] == random_movie_title]"
   ]
  },
  {
   "cell_type": "code",
   "execution_count": 24,
   "id": "e42976d9-f7b2-4f38-b408-ee13b00f2129",
   "metadata": {
    "tags": []
   },
   "outputs": [],
   "source": [
    "# Shuffle the rows for the selected movie\n",
    "selected_movie_data = selected_movie_data.sample(frac=1).reset_index(drop=True)"
   ]
  },
  {
   "cell_type": "code",
   "execution_count": 25,
   "id": "7ca2a51d",
   "metadata": {
    "tags": []
   },
   "outputs": [
    {
     "data": {
      "text/html": [
       "<div>\n",
       "<style scoped>\n",
       "    .dataframe tbody tr th:only-of-type {\n",
       "        vertical-align: middle;\n",
       "    }\n",
       "\n",
       "    .dataframe tbody tr th {\n",
       "        vertical-align: top;\n",
       "    }\n",
       "\n",
       "    .dataframe thead th {\n",
       "        text-align: right;\n",
       "    }\n",
       "</style>\n",
       "<table border=\"1\" class=\"dataframe\">\n",
       "  <thead>\n",
       "    <tr style=\"text-align: right;\">\n",
       "      <th></th>\n",
       "      <th>userId</th>\n",
       "      <th>movieId</th>\n",
       "      <th>rating</th>\n",
       "      <th>title</th>\n",
       "      <th>genres</th>\n",
       "      <th>num_rating</th>\n",
       "    </tr>\n",
       "  </thead>\n",
       "  <tbody>\n",
       "    <tr>\n",
       "      <th>0</th>\n",
       "      <td>316</td>\n",
       "      <td>48385</td>\n",
       "      <td>3.0</td>\n",
       "      <td>Borat: Cultural Learnings of America for Make ...</td>\n",
       "      <td>Comedy</td>\n",
       "      <td>44</td>\n",
       "    </tr>\n",
       "    <tr>\n",
       "      <th>1</th>\n",
       "      <td>23</td>\n",
       "      <td>48385</td>\n",
       "      <td>3.5</td>\n",
       "      <td>Borat: Cultural Learnings of America for Make ...</td>\n",
       "      <td>Comedy</td>\n",
       "      <td>44</td>\n",
       "    </tr>\n",
       "    <tr>\n",
       "      <th>2</th>\n",
       "      <td>384</td>\n",
       "      <td>48385</td>\n",
       "      <td>1.0</td>\n",
       "      <td>Borat: Cultural Learnings of America for Make ...</td>\n",
       "      <td>Comedy</td>\n",
       "      <td>44</td>\n",
       "    </tr>\n",
       "    <tr>\n",
       "      <th>3</th>\n",
       "      <td>423</td>\n",
       "      <td>48385</td>\n",
       "      <td>4.5</td>\n",
       "      <td>Borat: Cultural Learnings of America for Make ...</td>\n",
       "      <td>Comedy</td>\n",
       "      <td>44</td>\n",
       "    </tr>\n",
       "    <tr>\n",
       "      <th>4</th>\n",
       "      <td>267</td>\n",
       "      <td>48385</td>\n",
       "      <td>3.0</td>\n",
       "      <td>Borat: Cultural Learnings of America for Make ...</td>\n",
       "      <td>Comedy</td>\n",
       "      <td>44</td>\n",
       "    </tr>\n",
       "  </tbody>\n",
       "</table>\n",
       "</div>"
      ],
      "text/plain": [
       "   userId  movieId  rating                                              title  \\\n",
       "0     316    48385     3.0  Borat: Cultural Learnings of America for Make ...   \n",
       "1      23    48385     3.5  Borat: Cultural Learnings of America for Make ...   \n",
       "2     384    48385     1.0  Borat: Cultural Learnings of America for Make ...   \n",
       "3     423    48385     4.5  Borat: Cultural Learnings of America for Make ...   \n",
       "4     267    48385     3.0  Borat: Cultural Learnings of America for Make ...   \n",
       "\n",
       "   genres  num_rating  \n",
       "0  Comedy          44  \n",
       "1  Comedy          44  \n",
       "2  Comedy          44  \n",
       "3  Comedy          44  \n",
       "4  Comedy          44  "
      ]
     },
     "execution_count": 25,
     "metadata": {},
     "output_type": "execute_result"
    }
   ],
   "source": [
    "selected_movie_data.head(5)"
   ]
  },
  {
   "cell_type": "code",
   "execution_count": 26,
   "id": "bbe91574",
   "metadata": {
    "tags": []
   },
   "outputs": [
    {
     "data": {
      "text/plain": [
       "(100004, 6)"
      ]
     },
     "execution_count": 26,
     "metadata": {},
     "output_type": "execute_result"
    }
   ],
   "source": [
    "# checking shape of final dataset\n",
    "final.shape"
   ]
  },
  {
   "cell_type": "code",
   "execution_count": 27,
   "id": "585f4faa",
   "metadata": {
    "tags": []
   },
   "outputs": [
    {
     "data": {
      "text/html": [
       "<div>\n",
       "<style scoped>\n",
       "    .dataframe tbody tr th:only-of-type {\n",
       "        vertical-align: middle;\n",
       "    }\n",
       "\n",
       "    .dataframe tbody tr th {\n",
       "        vertical-align: top;\n",
       "    }\n",
       "\n",
       "    .dataframe thead th {\n",
       "        text-align: right;\n",
       "    }\n",
       "</style>\n",
       "<table border=\"1\" class=\"dataframe\">\n",
       "  <thead>\n",
       "    <tr style=\"text-align: right;\">\n",
       "      <th></th>\n",
       "      <th>userId</th>\n",
       "      <th>movieId</th>\n",
       "      <th>rating</th>\n",
       "      <th>title</th>\n",
       "      <th>genres</th>\n",
       "      <th>num_rating</th>\n",
       "    </tr>\n",
       "  </thead>\n",
       "  <tbody>\n",
       "    <tr>\n",
       "      <th>0</th>\n",
       "      <td>1</td>\n",
       "      <td>31</td>\n",
       "      <td>2.5</td>\n",
       "      <td>Dangerous Minds (1995)</td>\n",
       "      <td>Drama</td>\n",
       "      <td>42</td>\n",
       "    </tr>\n",
       "    <tr>\n",
       "      <th>1</th>\n",
       "      <td>7</td>\n",
       "      <td>31</td>\n",
       "      <td>3.0</td>\n",
       "      <td>Dangerous Minds (1995)</td>\n",
       "      <td>Drama</td>\n",
       "      <td>42</td>\n",
       "    </tr>\n",
       "    <tr>\n",
       "      <th>2</th>\n",
       "      <td>31</td>\n",
       "      <td>31</td>\n",
       "      <td>4.0</td>\n",
       "      <td>Dangerous Minds (1995)</td>\n",
       "      <td>Drama</td>\n",
       "      <td>42</td>\n",
       "    </tr>\n",
       "    <tr>\n",
       "      <th>3</th>\n",
       "      <td>32</td>\n",
       "      <td>31</td>\n",
       "      <td>4.0</td>\n",
       "      <td>Dangerous Minds (1995)</td>\n",
       "      <td>Drama</td>\n",
       "      <td>42</td>\n",
       "    </tr>\n",
       "    <tr>\n",
       "      <th>4</th>\n",
       "      <td>36</td>\n",
       "      <td>31</td>\n",
       "      <td>3.0</td>\n",
       "      <td>Dangerous Minds (1995)</td>\n",
       "      <td>Drama</td>\n",
       "      <td>42</td>\n",
       "    </tr>\n",
       "    <tr>\n",
       "      <th>...</th>\n",
       "      <td>...</td>\n",
       "      <td>...</td>\n",
       "      <td>...</td>\n",
       "      <td>...</td>\n",
       "      <td>...</td>\n",
       "      <td>...</td>\n",
       "    </tr>\n",
       "    <tr>\n",
       "      <th>99999</th>\n",
       "      <td>664</td>\n",
       "      <td>64997</td>\n",
       "      <td>2.5</td>\n",
       "      <td>War of the Worlds (2005)</td>\n",
       "      <td>Action|Sci-Fi</td>\n",
       "      <td>41</td>\n",
       "    </tr>\n",
       "    <tr>\n",
       "      <th>100000</th>\n",
       "      <td>664</td>\n",
       "      <td>72380</td>\n",
       "      <td>3.5</td>\n",
       "      <td>Box, The (2009)</td>\n",
       "      <td>Drama|Horror|Mystery|Sci-Fi|Thriller</td>\n",
       "      <td>1</td>\n",
       "    </tr>\n",
       "    <tr>\n",
       "      <th>100001</th>\n",
       "      <td>665</td>\n",
       "      <td>129</td>\n",
       "      <td>3.0</td>\n",
       "      <td>Pie in the Sky (1996)</td>\n",
       "      <td>Comedy|Romance</td>\n",
       "      <td>1</td>\n",
       "    </tr>\n",
       "    <tr>\n",
       "      <th>100002</th>\n",
       "      <td>665</td>\n",
       "      <td>4736</td>\n",
       "      <td>1.0</td>\n",
       "      <td>Summer Catch (2001)</td>\n",
       "      <td>Comedy|Drama|Romance</td>\n",
       "      <td>1</td>\n",
       "    </tr>\n",
       "    <tr>\n",
       "      <th>100003</th>\n",
       "      <td>668</td>\n",
       "      <td>6425</td>\n",
       "      <td>1.0</td>\n",
       "      <td>6th Man, The (Sixth Man, The) (1997)</td>\n",
       "      <td>Comedy</td>\n",
       "      <td>1</td>\n",
       "    </tr>\n",
       "  </tbody>\n",
       "</table>\n",
       "<p>100004 rows × 6 columns</p>\n",
       "</div>"
      ],
      "text/plain": [
       "        userId  movieId  rating                                 title  \\\n",
       "0            1       31     2.5                Dangerous Minds (1995)   \n",
       "1            7       31     3.0                Dangerous Minds (1995)   \n",
       "2           31       31     4.0                Dangerous Minds (1995)   \n",
       "3           32       31     4.0                Dangerous Minds (1995)   \n",
       "4           36       31     3.0                Dangerous Minds (1995)   \n",
       "...        ...      ...     ...                                   ...   \n",
       "99999      664    64997     2.5              War of the Worlds (2005)   \n",
       "100000     664    72380     3.5                       Box, The (2009)   \n",
       "100001     665      129     3.0                 Pie in the Sky (1996)   \n",
       "100002     665     4736     1.0                   Summer Catch (2001)   \n",
       "100003     668     6425     1.0  6th Man, The (Sixth Man, The) (1997)   \n",
       "\n",
       "                                      genres  num_rating  \n",
       "0                                      Drama          42  \n",
       "1                                      Drama          42  \n",
       "2                                      Drama          42  \n",
       "3                                      Drama          42  \n",
       "4                                      Drama          42  \n",
       "...                                      ...         ...  \n",
       "99999                          Action|Sci-Fi          41  \n",
       "100000  Drama|Horror|Mystery|Sci-Fi|Thriller           1  \n",
       "100001                        Comedy|Romance           1  \n",
       "100002                  Comedy|Drama|Romance           1  \n",
       "100003                                Comedy           1  \n",
       "\n",
       "[100004 rows x 6 columns]"
      ]
     },
     "execution_count": 27,
     "metadata": {},
     "output_type": "execute_result"
    }
   ],
   "source": [
    "final"
   ]
  },
  {
   "cell_type": "markdown",
   "id": "ed478288",
   "metadata": {},
   "source": [
    "<H1> Statistical Filtering </H1>"
   ]
  },
  {
   "cell_type": "code",
   "execution_count": 28,
   "id": "87902077",
   "metadata": {
    "tags": []
   },
   "outputs": [],
   "source": [
    "# now lets fix a threshold value for total rating, to filter the dataset on the basis of no. of rating \n",
    "# we have to do this because we have many movies whose title is same but user is different\n",
    "# but we have to pick the best threshold value using statistical approach\n",
    "# for this we have to do some analysis of no. of ratings"
   ]
  },
  {
   "cell_type": "code",
   "execution_count": 29,
   "id": "eb9159c9",
   "metadata": {
    "tags": []
   },
   "outputs": [
    {
     "data": {
      "text/plain": [
       "<Axes: >"
      ]
     },
     "execution_count": 29,
     "metadata": {},
     "output_type": "execute_result"
    },
    {
     "data": {
      "image/png": "[encoded data removed]",
      "text/plain": [
       "<Figure size 640x480 with 1 Axes>"
      ]
     },
     "metadata": {},
     "output_type": "display_data"
    }
   ],
   "source": [
    "# we first use boxplot to find quantiles values \n",
    "\n",
    "sns.boxplot(final['num_rating'])"
   ]
  },
  {
   "cell_type": "code",
   "execution_count": 30,
   "id": "99500321",
   "metadata": {
    "tags": []
   },
   "outputs": [
    {
     "name": "stdout",
     "output_type": "stream",
     "text": [
      "0th percentile value is 1.0\n",
      "10th percentile value is 5.0\n",
      "20th percentile value is 11.0\n",
      "30th percentile value is 19.0\n",
      "40th percentile value is 28.0\n",
      "50th percentile value is 40.0\n",
      "60th percentile value is 54.0\n",
      "70th percentile value is 75.0\n",
      "80th percentile value is 107.0\n",
      "90th percentile value is 158.0\n",
      "100th percentile value is 341.0\n"
     ]
    }
   ],
   "source": [
    "# here finding the quantile values at 0-100 th percentile having gap of 10\n",
    "for i in range(0,101,10):\n",
    "    print('{}th percentile value is {}'.format(i,final['num_rating'].quantile(i/100)))"
   ]
  },
  {
   "cell_type": "code",
   "execution_count": 31,
   "id": "d9d6f185",
   "metadata": {
    "tags": []
   },
   "outputs": [],
   "source": [
    "# as we see from the graph that the num_rating threshold value is after the 50 \n",
    "# so I took 69 as the threshold value"
   ]
  },
  {
   "cell_type": "code",
   "execution_count": 32,
   "id": "f4b1474b",
   "metadata": {
    "tags": []
   },
   "outputs": [],
   "source": [
    "# applying the threshold filtering on num_rating\n",
    "\n",
    "final = final[final['num_rating'] >= 69]"
   ]
  },
  {
   "cell_type": "code",
   "execution_count": 33,
   "id": "8fd0a966",
   "metadata": {
    "tags": []
   },
   "outputs": [
    {
     "data": {
      "text/plain": [
       "(33001, 6)"
      ]
     },
     "execution_count": 33,
     "metadata": {},
     "output_type": "execute_result"
    }
   ],
   "source": [
    "final.shape"
   ]
  },
  {
   "cell_type": "markdown",
   "id": "f52121c2",
   "metadata": {},
   "source": [
    "# Pivot table"
   ]
  },
  {
   "cell_type": "code",
   "execution_count": 34,
   "id": "0c34d985",
   "metadata": {
    "tags": []
   },
   "outputs": [],
   "source": [
    "# Now making a pivot table to find the no. of unique users and their ratings to each movies"
   ]
  },
  {
   "cell_type": "code",
   "execution_count": 35,
   "id": "7e0e3299",
   "metadata": {
    "tags": []
   },
   "outputs": [],
   "source": [
    "pvt_table = final.pivot_table(index='userId',columns='title',values='rating')"
   ]
  },
  {
   "cell_type": "code",
   "execution_count": 36,
   "id": "93c4b6cd",
   "metadata": {
    "tags": []
   },
   "outputs": [],
   "source": [
    "# filling NaN value with 0\n",
    "pvt_table.fillna(0,inplace=True)"
   ]
  },
  {
   "cell_type": "code",
   "execution_count": 37,
   "id": "2ab0bc26",
   "metadata": {
    "tags": []
   },
   "outputs": [
    {
     "data": {
      "text/html": [
       "<div>\n",
       "<style scoped>\n",
       "    .dataframe tbody tr th:only-of-type {\n",
       "        vertical-align: middle;\n",
       "    }\n",
       "\n",
       "    .dataframe tbody tr th {\n",
       "        vertical-align: top;\n",
       "    }\n",
       "\n",
       "    .dataframe thead th {\n",
       "        text-align: right;\n",
       "    }\n",
       "</style>\n",
       "<table border=\"1\" class=\"dataframe\">\n",
       "  <thead>\n",
       "    <tr style=\"text-align: right;\">\n",
       "      <th>title</th>\n",
       "      <th>12 Angry Men (1957)</th>\n",
       "      <th>2001: A Space Odyssey (1968)</th>\n",
       "      <th>Abyss, The (1989)</th>\n",
       "      <th>Ace Ventura: Pet Detective (1994)</th>\n",
       "      <th>Ace Ventura: When Nature Calls (1995)</th>\n",
       "      <th>Addams Family Values (1993)</th>\n",
       "      <th>Air Force One (1997)</th>\n",
       "      <th>Airplane! (1980)</th>\n",
       "      <th>Aladdin (1992)</th>\n",
       "      <th>Alien (1979)</th>\n",
       "      <th>...</th>\n",
       "      <th>Wedding Singer, The (1998)</th>\n",
       "      <th>What's Eating Gilbert Grape (1993)</th>\n",
       "      <th>When Harry Met Sally... (1989)</th>\n",
       "      <th>While You Were Sleeping (1995)</th>\n",
       "      <th>Who Framed Roger Rabbit? (1988)</th>\n",
       "      <th>Willy Wonka &amp; the Chocolate Factory (1971)</th>\n",
       "      <th>Wizard of Oz, The (1939)</th>\n",
       "      <th>X-Men (2000)</th>\n",
       "      <th>X2: X-Men United (2003)</th>\n",
       "      <th>Young Frankenstein (1974)</th>\n",
       "    </tr>\n",
       "    <tr>\n",
       "      <th>userId</th>\n",
       "      <th></th>\n",
       "      <th></th>\n",
       "      <th></th>\n",
       "      <th></th>\n",
       "      <th></th>\n",
       "      <th></th>\n",
       "      <th></th>\n",
       "      <th></th>\n",
       "      <th></th>\n",
       "      <th></th>\n",
       "      <th></th>\n",
       "      <th></th>\n",
       "      <th></th>\n",
       "      <th></th>\n",
       "      <th></th>\n",
       "      <th></th>\n",
       "      <th></th>\n",
       "      <th></th>\n",
       "      <th></th>\n",
       "      <th></th>\n",
       "      <th></th>\n",
       "    </tr>\n",
       "  </thead>\n",
       "  <tbody>\n",
       "    <tr>\n",
       "      <th>2</th>\n",
       "      <td>0.0</td>\n",
       "      <td>0.0</td>\n",
       "      <td>0.0</td>\n",
       "      <td>0.0</td>\n",
       "      <td>0.0</td>\n",
       "      <td>3.0</td>\n",
       "      <td>0.0</td>\n",
       "      <td>0.0</td>\n",
       "      <td>3.0</td>\n",
       "      <td>0.0</td>\n",
       "      <td>...</td>\n",
       "      <td>0.0</td>\n",
       "      <td>0.0</td>\n",
       "      <td>0.0</td>\n",
       "      <td>3.0</td>\n",
       "      <td>0.0</td>\n",
       "      <td>0.0</td>\n",
       "      <td>0.0</td>\n",
       "      <td>0.0</td>\n",
       "      <td>0.0</td>\n",
       "      <td>0.0</td>\n",
       "    </tr>\n",
       "    <tr>\n",
       "      <th>3</th>\n",
       "      <td>0.0</td>\n",
       "      <td>0.0</td>\n",
       "      <td>0.0</td>\n",
       "      <td>0.0</td>\n",
       "      <td>0.0</td>\n",
       "      <td>0.0</td>\n",
       "      <td>0.0</td>\n",
       "      <td>0.0</td>\n",
       "      <td>3.0</td>\n",
       "      <td>0.0</td>\n",
       "      <td>...</td>\n",
       "      <td>0.0</td>\n",
       "      <td>0.0</td>\n",
       "      <td>0.0</td>\n",
       "      <td>0.0</td>\n",
       "      <td>0.0</td>\n",
       "      <td>0.0</td>\n",
       "      <td>0.0</td>\n",
       "      <td>0.0</td>\n",
       "      <td>0.0</td>\n",
       "      <td>0.0</td>\n",
       "    </tr>\n",
       "    <tr>\n",
       "      <th>4</th>\n",
       "      <td>0.0</td>\n",
       "      <td>0.0</td>\n",
       "      <td>5.0</td>\n",
       "      <td>0.0</td>\n",
       "      <td>0.0</td>\n",
       "      <td>3.0</td>\n",
       "      <td>0.0</td>\n",
       "      <td>5.0</td>\n",
       "      <td>5.0</td>\n",
       "      <td>5.0</td>\n",
       "      <td>...</td>\n",
       "      <td>0.0</td>\n",
       "      <td>0.0</td>\n",
       "      <td>4.0</td>\n",
       "      <td>0.0</td>\n",
       "      <td>5.0</td>\n",
       "      <td>5.0</td>\n",
       "      <td>5.0</td>\n",
       "      <td>0.0</td>\n",
       "      <td>0.0</td>\n",
       "      <td>5.0</td>\n",
       "    </tr>\n",
       "    <tr>\n",
       "      <th>5</th>\n",
       "      <td>0.0</td>\n",
       "      <td>0.0</td>\n",
       "      <td>0.0</td>\n",
       "      <td>3.5</td>\n",
       "      <td>0.0</td>\n",
       "      <td>0.0</td>\n",
       "      <td>0.0</td>\n",
       "      <td>0.0</td>\n",
       "      <td>3.5</td>\n",
       "      <td>0.0</td>\n",
       "      <td>...</td>\n",
       "      <td>4.0</td>\n",
       "      <td>0.0</td>\n",
       "      <td>4.0</td>\n",
       "      <td>0.0</td>\n",
       "      <td>0.0</td>\n",
       "      <td>0.0</td>\n",
       "      <td>4.0</td>\n",
       "      <td>0.0</td>\n",
       "      <td>0.0</td>\n",
       "      <td>0.0</td>\n",
       "    </tr>\n",
       "    <tr>\n",
       "      <th>6</th>\n",
       "      <td>0.0</td>\n",
       "      <td>0.0</td>\n",
       "      <td>0.0</td>\n",
       "      <td>0.0</td>\n",
       "      <td>0.0</td>\n",
       "      <td>0.0</td>\n",
       "      <td>0.0</td>\n",
       "      <td>0.0</td>\n",
       "      <td>0.0</td>\n",
       "      <td>0.0</td>\n",
       "      <td>...</td>\n",
       "      <td>0.0</td>\n",
       "      <td>0.0</td>\n",
       "      <td>0.0</td>\n",
       "      <td>0.0</td>\n",
       "      <td>0.0</td>\n",
       "      <td>0.0</td>\n",
       "      <td>0.0</td>\n",
       "      <td>0.0</td>\n",
       "      <td>0.0</td>\n",
       "      <td>0.0</td>\n",
       "    </tr>\n",
       "    <tr>\n",
       "      <th>...</th>\n",
       "      <td>...</td>\n",
       "      <td>...</td>\n",
       "      <td>...</td>\n",
       "      <td>...</td>\n",
       "      <td>...</td>\n",
       "      <td>...</td>\n",
       "      <td>...</td>\n",
       "      <td>...</td>\n",
       "      <td>...</td>\n",
       "      <td>...</td>\n",
       "      <td>...</td>\n",
       "      <td>...</td>\n",
       "      <td>...</td>\n",
       "      <td>...</td>\n",
       "      <td>...</td>\n",
       "      <td>...</td>\n",
       "      <td>...</td>\n",
       "      <td>...</td>\n",
       "      <td>...</td>\n",
       "      <td>...</td>\n",
       "      <td>...</td>\n",
       "    </tr>\n",
       "    <tr>\n",
       "      <th>667</th>\n",
       "      <td>0.0</td>\n",
       "      <td>0.0</td>\n",
       "      <td>0.0</td>\n",
       "      <td>0.0</td>\n",
       "      <td>0.0</td>\n",
       "      <td>0.0</td>\n",
       "      <td>0.0</td>\n",
       "      <td>0.0</td>\n",
       "      <td>0.0</td>\n",
       "      <td>0.0</td>\n",
       "      <td>...</td>\n",
       "      <td>0.0</td>\n",
       "      <td>0.0</td>\n",
       "      <td>0.0</td>\n",
       "      <td>3.0</td>\n",
       "      <td>0.0</td>\n",
       "      <td>0.0</td>\n",
       "      <td>0.0</td>\n",
       "      <td>0.0</td>\n",
       "      <td>0.0</td>\n",
       "      <td>0.0</td>\n",
       "    </tr>\n",
       "    <tr>\n",
       "      <th>668</th>\n",
       "      <td>0.0</td>\n",
       "      <td>0.0</td>\n",
       "      <td>0.0</td>\n",
       "      <td>0.0</td>\n",
       "      <td>0.0</td>\n",
       "      <td>0.0</td>\n",
       "      <td>0.0</td>\n",
       "      <td>0.0</td>\n",
       "      <td>0.0</td>\n",
       "      <td>0.0</td>\n",
       "      <td>...</td>\n",
       "      <td>0.0</td>\n",
       "      <td>0.0</td>\n",
       "      <td>0.0</td>\n",
       "      <td>0.0</td>\n",
       "      <td>0.0</td>\n",
       "      <td>0.0</td>\n",
       "      <td>0.0</td>\n",
       "      <td>0.0</td>\n",
       "      <td>0.0</td>\n",
       "      <td>0.0</td>\n",
       "    </tr>\n",
       "    <tr>\n",
       "      <th>669</th>\n",
       "      <td>0.0</td>\n",
       "      <td>0.0</td>\n",
       "      <td>0.0</td>\n",
       "      <td>0.0</td>\n",
       "      <td>0.0</td>\n",
       "      <td>0.0</td>\n",
       "      <td>0.0</td>\n",
       "      <td>0.0</td>\n",
       "      <td>0.0</td>\n",
       "      <td>0.0</td>\n",
       "      <td>...</td>\n",
       "      <td>0.0</td>\n",
       "      <td>0.0</td>\n",
       "      <td>0.0</td>\n",
       "      <td>0.0</td>\n",
       "      <td>0.0</td>\n",
       "      <td>0.0</td>\n",
       "      <td>0.0</td>\n",
       "      <td>0.0</td>\n",
       "      <td>0.0</td>\n",
       "      <td>0.0</td>\n",
       "    </tr>\n",
       "    <tr>\n",
       "      <th>670</th>\n",
       "      <td>0.0</td>\n",
       "      <td>0.0</td>\n",
       "      <td>0.0</td>\n",
       "      <td>0.0</td>\n",
       "      <td>0.0</td>\n",
       "      <td>0.0</td>\n",
       "      <td>0.0</td>\n",
       "      <td>0.0</td>\n",
       "      <td>0.0</td>\n",
       "      <td>0.0</td>\n",
       "      <td>...</td>\n",
       "      <td>0.0</td>\n",
       "      <td>0.0</td>\n",
       "      <td>0.0</td>\n",
       "      <td>0.0</td>\n",
       "      <td>0.0</td>\n",
       "      <td>0.0</td>\n",
       "      <td>0.0</td>\n",
       "      <td>0.0</td>\n",
       "      <td>0.0</td>\n",
       "      <td>0.0</td>\n",
       "    </tr>\n",
       "    <tr>\n",
       "      <th>671</th>\n",
       "      <td>0.0</td>\n",
       "      <td>0.0</td>\n",
       "      <td>0.0</td>\n",
       "      <td>0.0</td>\n",
       "      <td>0.0</td>\n",
       "      <td>0.0</td>\n",
       "      <td>0.0</td>\n",
       "      <td>0.0</td>\n",
       "      <td>4.0</td>\n",
       "      <td>0.0</td>\n",
       "      <td>...</td>\n",
       "      <td>0.0</td>\n",
       "      <td>0.0</td>\n",
       "      <td>0.0</td>\n",
       "      <td>0.0</td>\n",
       "      <td>0.0</td>\n",
       "      <td>0.0</td>\n",
       "      <td>4.0</td>\n",
       "      <td>0.0</td>\n",
       "      <td>0.0</td>\n",
       "      <td>0.0</td>\n",
       "    </tr>\n",
       "  </tbody>\n",
       "</table>\n",
       "<p>662 rows × 278 columns</p>\n",
       "</div>"
      ],
      "text/plain": [
       "title   12 Angry Men (1957)  2001: A Space Odyssey (1968)  Abyss, The (1989)  \\\n",
       "userId                                                                         \n",
       "2                       0.0                           0.0                0.0   \n",
       "3                       0.0                           0.0                0.0   \n",
       "4                       0.0                           0.0                5.0   \n",
       "5                       0.0                           0.0                0.0   \n",
       "6                       0.0                           0.0                0.0   \n",
       "...                     ...                           ...                ...   \n",
       "667                     0.0                           0.0                0.0   \n",
       "668                     0.0                           0.0                0.0   \n",
       "669                     0.0                           0.0                0.0   \n",
       "670                     0.0                           0.0                0.0   \n",
       "671                     0.0                           0.0                0.0   \n",
       "\n",
       "title   Ace Ventura: Pet Detective (1994)  \\\n",
       "userId                                      \n",
       "2                                     0.0   \n",
       "3                                     0.0   \n",
       "4                                     0.0   \n",
       "5                                     3.5   \n",
       "6                                     0.0   \n",
       "...                                   ...   \n",
       "667                                   0.0   \n",
       "668                                   0.0   \n",
       "669                                   0.0   \n",
       "670                                   0.0   \n",
       "671                                   0.0   \n",
       "\n",
       "title   Ace Ventura: When Nature Calls (1995)  Addams Family Values (1993)  \\\n",
       "userId                                                                       \n",
       "2                                         0.0                          3.0   \n",
       "3                                         0.0                          0.0   \n",
       "4                                         0.0                          3.0   \n",
       "5                                         0.0                          0.0   \n",
       "6                                         0.0                          0.0   \n",
       "...                                       ...                          ...   \n",
       "667                                       0.0                          0.0   \n",
       "668                                       0.0                          0.0   \n",
       "669                                       0.0                          0.0   \n",
       "670                                       0.0                          0.0   \n",
       "671                                       0.0                          0.0   \n",
       "\n",
       "title   Air Force One (1997)  Airplane! (1980)  Aladdin (1992)  Alien (1979)  \\\n",
       "userId                                                                         \n",
       "2                        0.0               0.0             3.0           0.0   \n",
       "3                        0.0               0.0             3.0           0.0   \n",
       "4                        0.0               5.0             5.0           5.0   \n",
       "5                        0.0               0.0             3.5           0.0   \n",
       "6                        0.0               0.0             0.0           0.0   \n",
       "...                      ...               ...             ...           ...   \n",
       "667                      0.0               0.0             0.0           0.0   \n",
       "668                      0.0               0.0             0.0           0.0   \n",
       "669                      0.0               0.0             0.0           0.0   \n",
       "670                      0.0               0.0             0.0           0.0   \n",
       "671                      0.0               0.0             4.0           0.0   \n",
       "\n",
       "title   ...  Wedding Singer, The (1998)  What's Eating Gilbert Grape (1993)  \\\n",
       "userId  ...                                                                   \n",
       "2       ...                         0.0                                 0.0   \n",
       "3       ...                         0.0                                 0.0   \n",
       "4       ...                         0.0                                 0.0   \n",
       "5       ...                         4.0                                 0.0   \n",
       "6       ...                         0.0                                 0.0   \n",
       "...     ...                         ...                                 ...   \n",
       "667     ...                         0.0                                 0.0   \n",
       "668     ...                         0.0                                 0.0   \n",
       "669     ...                         0.0                                 0.0   \n",
       "670     ...                         0.0                                 0.0   \n",
       "671     ...                         0.0                                 0.0   \n",
       "\n",
       "title   When Harry Met Sally... (1989)  While You Were Sleeping (1995)  \\\n",
       "userId                                                                   \n",
       "2                                  0.0                             3.0   \n",
       "3                                  0.0                             0.0   \n",
       "4                                  4.0                             0.0   \n",
       "5                                  4.0                             0.0   \n",
       "6                                  0.0                             0.0   \n",
       "...                                ...                             ...   \n",
       "667                                0.0                             3.0   \n",
       "668                                0.0                             0.0   \n",
       "669                                0.0                             0.0   \n",
       "670                                0.0                             0.0   \n",
       "671                                0.0                             0.0   \n",
       "\n",
       "title   Who Framed Roger Rabbit? (1988)  \\\n",
       "userId                                    \n",
       "2                                   0.0   \n",
       "3                                   0.0   \n",
       "4                                   5.0   \n",
       "5                                   0.0   \n",
       "6                                   0.0   \n",
       "...                                 ...   \n",
       "667                                 0.0   \n",
       "668                                 0.0   \n",
       "669                                 0.0   \n",
       "670                                 0.0   \n",
       "671                                 0.0   \n",
       "\n",
       "title   Willy Wonka & the Chocolate Factory (1971)  Wizard of Oz, The (1939)  \\\n",
       "userId                                                                         \n",
       "2                                              0.0                       0.0   \n",
       "3                                              0.0                       0.0   \n",
       "4                                              5.0                       5.0   \n",
       "5                                              0.0                       4.0   \n",
       "6                                              0.0                       0.0   \n",
       "...                                            ...                       ...   \n",
       "667                                            0.0                       0.0   \n",
       "668                                            0.0                       0.0   \n",
       "669                                            0.0                       0.0   \n",
       "670                                            0.0                       0.0   \n",
       "671                                            0.0                       4.0   \n",
       "\n",
       "title   X-Men (2000)  X2: X-Men United (2003)  Young Frankenstein (1974)  \n",
       "userId                                                                    \n",
       "2                0.0                      0.0                        0.0  \n",
       "3                0.0                      0.0                        0.0  \n",
       "4                0.0                      0.0                        5.0  \n",
       "5                0.0                      0.0                        0.0  \n",
       "6                0.0                      0.0                        0.0  \n",
       "...              ...                      ...                        ...  \n",
       "667              0.0                      0.0                        0.0  \n",
       "668              0.0                      0.0                        0.0  \n",
       "669              0.0                      0.0                        0.0  \n",
       "670              0.0                      0.0                        0.0  \n",
       "671              0.0                      0.0                        0.0  \n",
       "\n",
       "[662 rows x 278 columns]"
      ]
     },
     "execution_count": 37,
     "metadata": {},
     "output_type": "execute_result"
    }
   ],
   "source": [
    "# Checking the pivot Table\n",
    "pvt_table"
   ]
  },
  {
   "cell_type": "code",
   "execution_count": 38,
   "id": "6ac85751",
   "metadata": {
    "tags": []
   },
   "outputs": [],
   "source": [
    "# Now we can see that there are 602 users who give ratings to 264 movies"
   ]
  },
  {
   "cell_type": "markdown",
   "id": "74fb9518",
   "metadata": {},
   "source": [
    "# correlation"
   ]
  },
  {
   "cell_type": "code",
   "execution_count": 39,
   "id": "34c3cad9",
   "metadata": {
    "tags": []
   },
   "outputs": [],
   "source": [
    "# A correlation is a statistical measure of the relationship between two variables. \n",
    "# The measure is best used in variables that demonstrate a linear relationship between each other."
   ]
  },
  {
   "cell_type": "code",
   "execution_count": 40,
   "id": "be59d4ab",
   "metadata": {
    "tags": []
   },
   "outputs": [],
   "source": [
    "# finding similar movies with respect to Airplane! (1980)\n",
    "# storing the correlation value in similarity\n",
    "\n",
    "similarity = pvt_table.corrwith(pvt_table['Aliens (1986)'])"
   ]
  },
  {
   "cell_type": "code",
   "execution_count": 41,
   "id": "edec1e9b",
   "metadata": {
    "tags": []
   },
   "outputs": [
    {
     "data": {
      "text/plain": [
       "title\n",
       "Alien (1979)                                             0.667877\n",
       "Terminator, The (1984)                                   0.568769\n",
       "Die Hard (1988)                                          0.500067\n",
       "Star Wars: Episode V - The Empire Strikes Back (1980)    0.489984\n",
       "Blade Runner (1982)                                      0.461399\n",
       "                                                           ...   \n",
       "Broken Arrow (1996)                                      0.041695\n",
       "While You Were Sleeping (1995)                           0.036469\n",
       "Batman Forever (1995)                                    0.026769\n",
       "Mr. Holland's Opus (1995)                                0.025718\n",
       "Ace Ventura: Pet Detective (1994)                        0.009079\n",
       "Length: 277, dtype: float64"
      ]
     },
     "execution_count": 41,
     "metadata": {},
     "output_type": "execute_result"
    }
   ],
   "source": [
    "# sorting the movies correlation value in descending order\n",
    "\n",
    "similarity.sort_values(ascending=False)[1:]"
   ]
  },
  {
   "cell_type": "code",
   "execution_count": 42,
   "id": "72c49ad9",
   "metadata": {
    "tags": []
   },
   "outputs": [],
   "source": [
    "co_Reln = similarity.sort_values(ascending=False).reset_index().rename(columns={0:'co-reln values'})[1:]"
   ]
  },
  {
   "cell_type": "code",
   "execution_count": 43,
   "id": "d6f6be2e",
   "metadata": {
    "tags": []
   },
   "outputs": [
    {
     "data": {
      "text/html": [
       "<div>\n",
       "<style scoped>\n",
       "    .dataframe tbody tr th:only-of-type {\n",
       "        vertical-align: middle;\n",
       "    }\n",
       "\n",
       "    .dataframe tbody tr th {\n",
       "        vertical-align: top;\n",
       "    }\n",
       "\n",
       "    .dataframe thead th {\n",
       "        text-align: right;\n",
       "    }\n",
       "</style>\n",
       "<table border=\"1\" class=\"dataframe\">\n",
       "  <thead>\n",
       "    <tr style=\"text-align: right;\">\n",
       "      <th></th>\n",
       "      <th>title</th>\n",
       "      <th>co-reln values</th>\n",
       "    </tr>\n",
       "  </thead>\n",
       "  <tbody>\n",
       "    <tr>\n",
       "      <th>1</th>\n",
       "      <td>Alien (1979)</td>\n",
       "      <td>0.667877</td>\n",
       "    </tr>\n",
       "    <tr>\n",
       "      <th>2</th>\n",
       "      <td>Terminator, The (1984)</td>\n",
       "      <td>0.568769</td>\n",
       "    </tr>\n",
       "    <tr>\n",
       "      <th>3</th>\n",
       "      <td>Die Hard (1988)</td>\n",
       "      <td>0.500067</td>\n",
       "    </tr>\n",
       "    <tr>\n",
       "      <th>4</th>\n",
       "      <td>Star Wars: Episode V - The Empire Strikes Back...</td>\n",
       "      <td>0.489984</td>\n",
       "    </tr>\n",
       "    <tr>\n",
       "      <th>5</th>\n",
       "      <td>Blade Runner (1982)</td>\n",
       "      <td>0.461399</td>\n",
       "    </tr>\n",
       "    <tr>\n",
       "      <th>...</th>\n",
       "      <td>...</td>\n",
       "      <td>...</td>\n",
       "    </tr>\n",
       "    <tr>\n",
       "      <th>273</th>\n",
       "      <td>Broken Arrow (1996)</td>\n",
       "      <td>0.041695</td>\n",
       "    </tr>\n",
       "    <tr>\n",
       "      <th>274</th>\n",
       "      <td>While You Were Sleeping (1995)</td>\n",
       "      <td>0.036469</td>\n",
       "    </tr>\n",
       "    <tr>\n",
       "      <th>275</th>\n",
       "      <td>Batman Forever (1995)</td>\n",
       "      <td>0.026769</td>\n",
       "    </tr>\n",
       "    <tr>\n",
       "      <th>276</th>\n",
       "      <td>Mr. Holland's Opus (1995)</td>\n",
       "      <td>0.025718</td>\n",
       "    </tr>\n",
       "    <tr>\n",
       "      <th>277</th>\n",
       "      <td>Ace Ventura: Pet Detective (1994)</td>\n",
       "      <td>0.009079</td>\n",
       "    </tr>\n",
       "  </tbody>\n",
       "</table>\n",
       "<p>277 rows × 2 columns</p>\n",
       "</div>"
      ],
      "text/plain": [
       "                                                 title  co-reln values\n",
       "1                                         Alien (1979)        0.667877\n",
       "2                               Terminator, The (1984)        0.568769\n",
       "3                                      Die Hard (1988)        0.500067\n",
       "4    Star Wars: Episode V - The Empire Strikes Back...        0.489984\n",
       "5                                  Blade Runner (1982)        0.461399\n",
       "..                                                 ...             ...\n",
       "273                                Broken Arrow (1996)        0.041695\n",
       "274                     While You Were Sleeping (1995)        0.036469\n",
       "275                              Batman Forever (1995)        0.026769\n",
       "276                          Mr. Holland's Opus (1995)        0.025718\n",
       "277                  Ace Ventura: Pet Detective (1994)        0.009079\n",
       "\n",
       "[277 rows x 2 columns]"
      ]
     },
     "execution_count": 43,
     "metadata": {},
     "output_type": "execute_result"
    }
   ],
   "source": [
    "# printing the correlation values for the movie 'Aliens (1986)'\n",
    "co_Reln "
   ]
  },
  {
   "cell_type": "code",
   "execution_count": 44,
   "id": "4f016c58",
   "metadata": {
    "tags": []
   },
   "outputs": [
    {
     "data": {
      "text/html": [
       "<div>\n",
       "<style scoped>\n",
       "    .dataframe tbody tr th:only-of-type {\n",
       "        vertical-align: middle;\n",
       "    }\n",
       "\n",
       "    .dataframe tbody tr th {\n",
       "        vertical-align: top;\n",
       "    }\n",
       "\n",
       "    .dataframe thead th {\n",
       "        text-align: right;\n",
       "    }\n",
       "</style>\n",
       "<table border=\"1\" class=\"dataframe\">\n",
       "  <thead>\n",
       "    <tr style=\"text-align: right;\">\n",
       "      <th></th>\n",
       "      <th>userId</th>\n",
       "      <th>movieId</th>\n",
       "      <th>rating</th>\n",
       "      <th>title</th>\n",
       "      <th>genres</th>\n",
       "      <th>num_rating</th>\n",
       "    </tr>\n",
       "  </thead>\n",
       "  <tbody>\n",
       "    <tr>\n",
       "      <th>911</th>\n",
       "      <td>2</td>\n",
       "      <td>10</td>\n",
       "      <td>4.0</td>\n",
       "      <td>GoldenEye (1995)</td>\n",
       "      <td>Action|Adventure|Thriller</td>\n",
       "      <td>122</td>\n",
       "    </tr>\n",
       "    <tr>\n",
       "      <th>912</th>\n",
       "      <td>4</td>\n",
       "      <td>10</td>\n",
       "      <td>4.0</td>\n",
       "      <td>GoldenEye (1995)</td>\n",
       "      <td>Action|Adventure|Thriller</td>\n",
       "      <td>122</td>\n",
       "    </tr>\n",
       "    <tr>\n",
       "      <th>913</th>\n",
       "      <td>7</td>\n",
       "      <td>10</td>\n",
       "      <td>3.0</td>\n",
       "      <td>GoldenEye (1995)</td>\n",
       "      <td>Action|Adventure|Thriller</td>\n",
       "      <td>122</td>\n",
       "    </tr>\n",
       "    <tr>\n",
       "      <th>914</th>\n",
       "      <td>15</td>\n",
       "      <td>10</td>\n",
       "      <td>3.0</td>\n",
       "      <td>GoldenEye (1995)</td>\n",
       "      <td>Action|Adventure|Thriller</td>\n",
       "      <td>122</td>\n",
       "    </tr>\n",
       "    <tr>\n",
       "      <th>915</th>\n",
       "      <td>19</td>\n",
       "      <td>10</td>\n",
       "      <td>3.0</td>\n",
       "      <td>GoldenEye (1995)</td>\n",
       "      <td>Action|Adventure|Thriller</td>\n",
       "      <td>122</td>\n",
       "    </tr>\n",
       "    <tr>\n",
       "      <th>...</th>\n",
       "      <td>...</td>\n",
       "      <td>...</td>\n",
       "      <td>...</td>\n",
       "      <td>...</td>\n",
       "      <td>...</td>\n",
       "      <td>...</td>\n",
       "    </tr>\n",
       "    <tr>\n",
       "      <th>76723</th>\n",
       "      <td>646</td>\n",
       "      <td>368</td>\n",
       "      <td>4.0</td>\n",
       "      <td>Maverick (1994)</td>\n",
       "      <td>Adventure|Comedy|Western</td>\n",
       "      <td>71</td>\n",
       "    </tr>\n",
       "    <tr>\n",
       "      <th>76724</th>\n",
       "      <td>649</td>\n",
       "      <td>368</td>\n",
       "      <td>3.0</td>\n",
       "      <td>Maverick (1994)</td>\n",
       "      <td>Adventure|Comedy|Western</td>\n",
       "      <td>71</td>\n",
       "    </tr>\n",
       "    <tr>\n",
       "      <th>76725</th>\n",
       "      <td>654</td>\n",
       "      <td>368</td>\n",
       "      <td>3.5</td>\n",
       "      <td>Maverick (1994)</td>\n",
       "      <td>Adventure|Comedy|Western</td>\n",
       "      <td>71</td>\n",
       "    </tr>\n",
       "    <tr>\n",
       "      <th>76726</th>\n",
       "      <td>655</td>\n",
       "      <td>368</td>\n",
       "      <td>5.0</td>\n",
       "      <td>Maverick (1994)</td>\n",
       "      <td>Adventure|Comedy|Western</td>\n",
       "      <td>71</td>\n",
       "    </tr>\n",
       "    <tr>\n",
       "      <th>76727</th>\n",
       "      <td>665</td>\n",
       "      <td>368</td>\n",
       "      <td>3.0</td>\n",
       "      <td>Maverick (1994)</td>\n",
       "      <td>Adventure|Comedy|Western</td>\n",
       "      <td>71</td>\n",
       "    </tr>\n",
       "  </tbody>\n",
       "</table>\n",
       "<p>33001 rows × 6 columns</p>\n",
       "</div>"
      ],
      "text/plain": [
       "       userId  movieId  rating             title                     genres  \\\n",
       "911         2       10     4.0  GoldenEye (1995)  Action|Adventure|Thriller   \n",
       "912         4       10     4.0  GoldenEye (1995)  Action|Adventure|Thriller   \n",
       "913         7       10     3.0  GoldenEye (1995)  Action|Adventure|Thriller   \n",
       "914        15       10     3.0  GoldenEye (1995)  Action|Adventure|Thriller   \n",
       "915        19       10     3.0  GoldenEye (1995)  Action|Adventure|Thriller   \n",
       "...       ...      ...     ...               ...                        ...   \n",
       "76723     646      368     4.0   Maverick (1994)   Adventure|Comedy|Western   \n",
       "76724     649      368     3.0   Maverick (1994)   Adventure|Comedy|Western   \n",
       "76725     654      368     3.5   Maverick (1994)   Adventure|Comedy|Western   \n",
       "76726     655      368     5.0   Maverick (1994)   Adventure|Comedy|Western   \n",
       "76727     665      368     3.0   Maverick (1994)   Adventure|Comedy|Western   \n",
       "\n",
       "       num_rating  \n",
       "911           122  \n",
       "912           122  \n",
       "913           122  \n",
       "914           122  \n",
       "915           122  \n",
       "...           ...  \n",
       "76723          71  \n",
       "76724          71  \n",
       "76725          71  \n",
       "76726          71  \n",
       "76727          71  \n",
       "\n",
       "[33001 rows x 6 columns]"
      ]
     },
     "execution_count": 44,
     "metadata": {},
     "output_type": "execute_result"
    }
   ],
   "source": [
    "# now recalling the final data that we made using merging\n",
    "final"
   ]
  },
  {
   "cell_type": "code",
   "execution_count": 45,
   "id": "8cb4e676",
   "metadata": {
    "tags": []
   },
   "outputs": [],
   "source": [
    "# now calculating the mean of the rating and counting the ratings of each movie\n",
    "mean_data = final.groupby('title').agg({'title':'count','rating':'mean'}).rename(columns={'title':'total_ratings','rating':'avg_rating'}).reset_index()"
   ]
  },
  {
   "cell_type": "code",
   "execution_count": 46,
   "id": "f632ae0b",
   "metadata": {
    "tags": []
   },
   "outputs": [
    {
     "data": {
      "text/html": [
       "<div>\n",
       "<style scoped>\n",
       "    .dataframe tbody tr th:only-of-type {\n",
       "        vertical-align: middle;\n",
       "    }\n",
       "\n",
       "    .dataframe tbody tr th {\n",
       "        vertical-align: top;\n",
       "    }\n",
       "\n",
       "    .dataframe thead th {\n",
       "        text-align: right;\n",
       "    }\n",
       "</style>\n",
       "<table border=\"1\" class=\"dataframe\">\n",
       "  <thead>\n",
       "    <tr style=\"text-align: right;\">\n",
       "      <th></th>\n",
       "      <th>title</th>\n",
       "      <th>total_ratings</th>\n",
       "      <th>avg_rating</th>\n",
       "    </tr>\n",
       "  </thead>\n",
       "  <tbody>\n",
       "    <tr>\n",
       "      <th>0</th>\n",
       "      <td>12 Angry Men (1957)</td>\n",
       "      <td>74</td>\n",
       "      <td>4.304054</td>\n",
       "    </tr>\n",
       "    <tr>\n",
       "      <th>1</th>\n",
       "      <td>2001: A Space Odyssey (1968)</td>\n",
       "      <td>123</td>\n",
       "      <td>3.886179</td>\n",
       "    </tr>\n",
       "    <tr>\n",
       "      <th>2</th>\n",
       "      <td>Abyss, The (1989)</td>\n",
       "      <td>71</td>\n",
       "      <td>3.612676</td>\n",
       "    </tr>\n",
       "    <tr>\n",
       "      <th>3</th>\n",
       "      <td>Ace Ventura: Pet Detective (1994)</td>\n",
       "      <td>175</td>\n",
       "      <td>2.871429</td>\n",
       "    </tr>\n",
       "    <tr>\n",
       "      <th>4</th>\n",
       "      <td>Ace Ventura: When Nature Calls (1995)</td>\n",
       "      <td>92</td>\n",
       "      <td>2.597826</td>\n",
       "    </tr>\n",
       "    <tr>\n",
       "      <th>...</th>\n",
       "      <td>...</td>\n",
       "      <td>...</td>\n",
       "      <td>...</td>\n",
       "    </tr>\n",
       "    <tr>\n",
       "      <th>273</th>\n",
       "      <td>Willy Wonka &amp; the Chocolate Factory (1971)</td>\n",
       "      <td>148</td>\n",
       "      <td>3.753378</td>\n",
       "    </tr>\n",
       "    <tr>\n",
       "      <th>274</th>\n",
       "      <td>Wizard of Oz, The (1939)</td>\n",
       "      <td>117</td>\n",
       "      <td>3.957265</td>\n",
       "    </tr>\n",
       "    <tr>\n",
       "      <th>275</th>\n",
       "      <td>X-Men (2000)</td>\n",
       "      <td>127</td>\n",
       "      <td>3.559055</td>\n",
       "    </tr>\n",
       "    <tr>\n",
       "      <th>276</th>\n",
       "      <td>X2: X-Men United (2003)</td>\n",
       "      <td>81</td>\n",
       "      <td>3.617284</td>\n",
       "    </tr>\n",
       "    <tr>\n",
       "      <th>277</th>\n",
       "      <td>Young Frankenstein (1974)</td>\n",
       "      <td>74</td>\n",
       "      <td>4.087838</td>\n",
       "    </tr>\n",
       "  </tbody>\n",
       "</table>\n",
       "<p>278 rows × 3 columns</p>\n",
       "</div>"
      ],
      "text/plain": [
       "                                          title  total_ratings  avg_rating\n",
       "0                           12 Angry Men (1957)             74    4.304054\n",
       "1                  2001: A Space Odyssey (1968)            123    3.886179\n",
       "2                             Abyss, The (1989)             71    3.612676\n",
       "3             Ace Ventura: Pet Detective (1994)            175    2.871429\n",
       "4         Ace Ventura: When Nature Calls (1995)             92    2.597826\n",
       "..                                          ...            ...         ...\n",
       "273  Willy Wonka & the Chocolate Factory (1971)            148    3.753378\n",
       "274                    Wizard of Oz, The (1939)            117    3.957265\n",
       "275                                X-Men (2000)            127    3.559055\n",
       "276                     X2: X-Men United (2003)             81    3.617284\n",
       "277                   Young Frankenstein (1974)             74    4.087838\n",
       "\n",
       "[278 rows x 3 columns]"
      ]
     },
     "execution_count": 46,
     "metadata": {},
     "output_type": "execute_result"
    }
   ],
   "source": [
    "mean_data"
   ]
  },
  {
   "cell_type": "code",
   "execution_count": 47,
   "id": "27b91dce",
   "metadata": {
    "tags": []
   },
   "outputs": [],
   "source": [
    "# fetching titles\n",
    "titles = mean_data['title']"
   ]
  },
  {
   "cell_type": "code",
   "execution_count": 48,
   "id": "c56a2643",
   "metadata": {
    "tags": []
   },
   "outputs": [],
   "source": [
    "# merging mean_data and cor on the basis of title\n",
    "cor = co_Reln.merge(mean_data, on = 'title')"
   ]
  },
  {
   "cell_type": "code",
   "execution_count": 49,
   "id": "bfce1d84",
   "metadata": {
    "tags": []
   },
   "outputs": [
    {
     "data": {
      "text/html": [
       "<div>\n",
       "<style scoped>\n",
       "    .dataframe tbody tr th:only-of-type {\n",
       "        vertical-align: middle;\n",
       "    }\n",
       "\n",
       "    .dataframe tbody tr th {\n",
       "        vertical-align: top;\n",
       "    }\n",
       "\n",
       "    .dataframe thead th {\n",
       "        text-align: right;\n",
       "    }\n",
       "</style>\n",
       "<table border=\"1\" class=\"dataframe\">\n",
       "  <thead>\n",
       "    <tr style=\"text-align: right;\">\n",
       "      <th></th>\n",
       "      <th>title</th>\n",
       "      <th>co-reln values</th>\n",
       "      <th>total_ratings</th>\n",
       "      <th>avg_rating</th>\n",
       "    </tr>\n",
       "  </thead>\n",
       "  <tbody>\n",
       "    <tr>\n",
       "      <th>1</th>\n",
       "      <td>Terminator, The (1984)</td>\n",
       "      <td>0.568769</td>\n",
       "      <td>158</td>\n",
       "      <td>3.958861</td>\n",
       "    </tr>\n",
       "    <tr>\n",
       "      <th>2</th>\n",
       "      <td>Die Hard (1988)</td>\n",
       "      <td>0.500067</td>\n",
       "      <td>151</td>\n",
       "      <td>3.864238</td>\n",
       "    </tr>\n",
       "    <tr>\n",
       "      <th>3</th>\n",
       "      <td>Star Wars: Episode V - The Empire Strikes Back...</td>\n",
       "      <td>0.489984</td>\n",
       "      <td>234</td>\n",
       "      <td>4.232906</td>\n",
       "    </tr>\n",
       "    <tr>\n",
       "      <th>4</th>\n",
       "      <td>Blade Runner (1982)</td>\n",
       "      <td>0.461399</td>\n",
       "      <td>146</td>\n",
       "      <td>4.037671</td>\n",
       "    </tr>\n",
       "    <tr>\n",
       "      <th>5</th>\n",
       "      <td>Abyss, The (1989)</td>\n",
       "      <td>0.441693</td>\n",
       "      <td>71</td>\n",
       "      <td>3.612676</td>\n",
       "    </tr>\n",
       "    <tr>\n",
       "      <th>6</th>\n",
       "      <td>Star Trek II: The Wrath of Khan (1982)</td>\n",
       "      <td>0.433780</td>\n",
       "      <td>72</td>\n",
       "      <td>3.750000</td>\n",
       "    </tr>\n",
       "    <tr>\n",
       "      <th>7</th>\n",
       "      <td>Full Metal Jacket (1987)</td>\n",
       "      <td>0.429297</td>\n",
       "      <td>104</td>\n",
       "      <td>4.033654</td>\n",
       "    </tr>\n",
       "    <tr>\n",
       "      <th>8</th>\n",
       "      <td>Raiders of the Lost Ark (Indiana Jones and the...</td>\n",
       "      <td>0.425397</td>\n",
       "      <td>220</td>\n",
       "      <td>4.193182</td>\n",
       "    </tr>\n",
       "    <tr>\n",
       "      <th>9</th>\n",
       "      <td>Indiana Jones and the Last Crusade (1989)</td>\n",
       "      <td>0.414908</td>\n",
       "      <td>147</td>\n",
       "      <td>4.017007</td>\n",
       "    </tr>\n",
       "    <tr>\n",
       "      <th>10</th>\n",
       "      <td>Back to the Future (1985)</td>\n",
       "      <td>0.388768</td>\n",
       "      <td>226</td>\n",
       "      <td>4.015487</td>\n",
       "    </tr>\n",
       "  </tbody>\n",
       "</table>\n",
       "</div>"
      ],
      "text/plain": [
       "                                                title  co-reln values  \\\n",
       "1                              Terminator, The (1984)        0.568769   \n",
       "2                                     Die Hard (1988)        0.500067   \n",
       "3   Star Wars: Episode V - The Empire Strikes Back...        0.489984   \n",
       "4                                 Blade Runner (1982)        0.461399   \n",
       "5                                   Abyss, The (1989)        0.441693   \n",
       "6              Star Trek II: The Wrath of Khan (1982)        0.433780   \n",
       "7                            Full Metal Jacket (1987)        0.429297   \n",
       "8   Raiders of the Lost Ark (Indiana Jones and the...        0.425397   \n",
       "9           Indiana Jones and the Last Crusade (1989)        0.414908   \n",
       "10                          Back to the Future (1985)        0.388768   \n",
       "\n",
       "    total_ratings  avg_rating  \n",
       "1             158    3.958861  \n",
       "2             151    3.864238  \n",
       "3             234    4.232906  \n",
       "4             146    4.037671  \n",
       "5              71    3.612676  \n",
       "6              72    3.750000  \n",
       "7             104    4.033654  \n",
       "8             220    4.193182  \n",
       "9             147    4.017007  \n",
       "10            226    4.015487  "
      ]
     },
     "execution_count": 49,
     "metadata": {},
     "output_type": "execute_result"
    }
   ],
   "source": [
    "# so these are the top 10 movies recommended for Airplane 1980\n",
    "cor.sort_values('co-reln values', ascending=False)[1:11]"
   ]
  },
  {
   "cell_type": "code",
   "execution_count": 50,
   "id": "576c8fd1",
   "metadata": {
    "tags": []
   },
   "outputs": [
    {
     "data": {
      "application/vnd.jupyter.widget-view+json": {
       "model_id": "b34929549a5b408d81759468e5fc943a",
       "version_major": 2,
       "version_minor": 0
      },
      "text/plain": [
       "interactive(children=(Dropdown(description='movie', options=('12 Angry Men (1957)', '2001: A Space Odyssey (19…"
      ]
     },
     "metadata": {},
     "output_type": "display_data"
    }
   ],
   "source": [
    "# building the final recommendation function\n",
    "@interact\n",
    "def recommend_movies(movie = titles, frequency = range(3,10)):\n",
    "    \n",
    "    similarity = pvt_table.corrwith(pvt_table[movie])\n",
    "    \n",
    "    return similarity.sort_values(ascending=False)[1:frequency+1] "
   ]
  },
  {
   "cell_type": "code",
   "execution_count": 51,
   "id": "04f6833a",
   "metadata": {
    "tags": []
   },
   "outputs": [],
   "source": [
    "# Now Also Checking the results Using cosine similarity"
   ]
  },
  {
   "cell_type": "code",
   "execution_count": 52,
   "id": "23e93f04",
   "metadata": {
    "tags": []
   },
   "outputs": [],
   "source": [
    "# again creating a pivot table\n",
    "pvt_table1 = final.pivot_table(index='title',columns='userId',values='rating')"
   ]
  },
  {
   "cell_type": "code",
   "execution_count": 53,
   "id": "e98efdc1",
   "metadata": {
    "tags": []
   },
   "outputs": [],
   "source": [
    "# filling NaN values with 0\n",
    "pvt_table1.fillna(0,inplace=True)"
   ]
  },
  {
   "cell_type": "code",
   "execution_count": 54,
   "id": "71fe3a5e",
   "metadata": {
    "tags": []
   },
   "outputs": [],
   "source": [
    "# Calculating the Similarity Scores\n",
    "similarity_scores = cosine_similarity(pvt_table1)"
   ]
  },
  {
   "cell_type": "code",
   "execution_count": 55,
   "id": "5cf59fe5",
   "metadata": {
    "tags": []
   },
   "outputs": [
    {
     "data": {
      "application/vnd.jupyter.widget-view+json": {
       "model_id": "a54487b2177c4e95b32e4a9396220777",
       "version_major": 2,
       "version_minor": 0
      },
      "text/plain": [
       "interactive(children=(Dropdown(description='movie', options=('12 Angry Men (1957)', '2001: A Space Odyssey (19…"
      ]
     },
     "metadata": {},
     "output_type": "display_data"
    }
   ],
   "source": [
    "# Now here is the final Function\n",
    "@interact\n",
    "def recommend(movie = titles):\n",
    "    # index fetch\n",
    "    columns = np.where(pvt_table1.index==movie)[0][0]\n",
    "    similar_items = sorted(list(enumerate(similarity_scores[columns])),key=lambda x:x[1],reverse=True)[1:11]\n",
    "    \n",
    "    data = []\n",
    "    for i in similar_items:\n",
    "        item = []\n",
    "        temp_df = movies[movies['title'] == pvt_table1.index[i[0]]]\n",
    "        item.extend(list(temp_df.drop_duplicates('title')['title'].values))\n",
    "        \n",
    "        data.append(item)\n",
    "    \n",
    "    return data"
   ]
  },
  {
   "cell_type": "markdown",
   "id": "cc3bc145",
   "metadata": {},
   "source": [
    "# KNN"
   ]
  },
  {
   "cell_type": "code",
   "execution_count": 56,
   "id": "a841712f",
   "metadata": {
    "tags": []
   },
   "outputs": [],
   "source": [
    "# As I already have my pivot table 1 so lets "
   ]
  },
  {
   "cell_type": "code",
   "execution_count": 57,
   "id": "ceadbd54",
   "metadata": {
    "tags": []
   },
   "outputs": [
    {
     "data": {
      "text/html": [
       "<div>\n",
       "<style scoped>\n",
       "    .dataframe tbody tr th:only-of-type {\n",
       "        vertical-align: middle;\n",
       "    }\n",
       "\n",
       "    .dataframe tbody tr th {\n",
       "        vertical-align: top;\n",
       "    }\n",
       "\n",
       "    .dataframe thead th {\n",
       "        text-align: right;\n",
       "    }\n",
       "</style>\n",
       "<table border=\"1\" class=\"dataframe\">\n",
       "  <thead>\n",
       "    <tr style=\"text-align: right;\">\n",
       "      <th>userId</th>\n",
       "      <th>2</th>\n",
       "      <th>3</th>\n",
       "      <th>4</th>\n",
       "      <th>5</th>\n",
       "      <th>6</th>\n",
       "      <th>7</th>\n",
       "      <th>8</th>\n",
       "      <th>9</th>\n",
       "      <th>10</th>\n",
       "      <th>11</th>\n",
       "      <th>...</th>\n",
       "      <th>662</th>\n",
       "      <th>663</th>\n",
       "      <th>664</th>\n",
       "      <th>665</th>\n",
       "      <th>666</th>\n",
       "      <th>667</th>\n",
       "      <th>668</th>\n",
       "      <th>669</th>\n",
       "      <th>670</th>\n",
       "      <th>671</th>\n",
       "    </tr>\n",
       "    <tr>\n",
       "      <th>title</th>\n",
       "      <th></th>\n",
       "      <th></th>\n",
       "      <th></th>\n",
       "      <th></th>\n",
       "      <th></th>\n",
       "      <th></th>\n",
       "      <th></th>\n",
       "      <th></th>\n",
       "      <th></th>\n",
       "      <th></th>\n",
       "      <th></th>\n",
       "      <th></th>\n",
       "      <th></th>\n",
       "      <th></th>\n",
       "      <th></th>\n",
       "      <th></th>\n",
       "      <th></th>\n",
       "      <th></th>\n",
       "      <th></th>\n",
       "      <th></th>\n",
       "      <th></th>\n",
       "    </tr>\n",
       "  </thead>\n",
       "  <tbody>\n",
       "    <tr>\n",
       "      <th>12 Angry Men (1957)</th>\n",
       "      <td>0.0</td>\n",
       "      <td>0.0</td>\n",
       "      <td>0.0</td>\n",
       "      <td>0.0</td>\n",
       "      <td>0.0</td>\n",
       "      <td>0.0</td>\n",
       "      <td>0.0</td>\n",
       "      <td>0.0</td>\n",
       "      <td>0.0</td>\n",
       "      <td>0.0</td>\n",
       "      <td>...</td>\n",
       "      <td>0.0</td>\n",
       "      <td>0.0</td>\n",
       "      <td>0.0</td>\n",
       "      <td>0.0</td>\n",
       "      <td>0.0</td>\n",
       "      <td>0.0</td>\n",
       "      <td>0.0</td>\n",
       "      <td>0.0</td>\n",
       "      <td>0.0</td>\n",
       "      <td>0.0</td>\n",
       "    </tr>\n",
       "    <tr>\n",
       "      <th>2001: A Space Odyssey (1968)</th>\n",
       "      <td>0.0</td>\n",
       "      <td>0.0</td>\n",
       "      <td>0.0</td>\n",
       "      <td>0.0</td>\n",
       "      <td>0.0</td>\n",
       "      <td>4.0</td>\n",
       "      <td>0.0</td>\n",
       "      <td>0.0</td>\n",
       "      <td>0.0</td>\n",
       "      <td>0.0</td>\n",
       "      <td>...</td>\n",
       "      <td>0.0</td>\n",
       "      <td>0.0</td>\n",
       "      <td>4.0</td>\n",
       "      <td>0.0</td>\n",
       "      <td>0.0</td>\n",
       "      <td>0.0</td>\n",
       "      <td>0.0</td>\n",
       "      <td>0.0</td>\n",
       "      <td>0.0</td>\n",
       "      <td>0.0</td>\n",
       "    </tr>\n",
       "    <tr>\n",
       "      <th>Abyss, The (1989)</th>\n",
       "      <td>0.0</td>\n",
       "      <td>0.0</td>\n",
       "      <td>5.0</td>\n",
       "      <td>0.0</td>\n",
       "      <td>0.0</td>\n",
       "      <td>0.0</td>\n",
       "      <td>0.0</td>\n",
       "      <td>0.0</td>\n",
       "      <td>4.0</td>\n",
       "      <td>0.0</td>\n",
       "      <td>...</td>\n",
       "      <td>0.0</td>\n",
       "      <td>0.0</td>\n",
       "      <td>4.5</td>\n",
       "      <td>0.0</td>\n",
       "      <td>0.0</td>\n",
       "      <td>0.0</td>\n",
       "      <td>0.0</td>\n",
       "      <td>0.0</td>\n",
       "      <td>0.0</td>\n",
       "      <td>0.0</td>\n",
       "    </tr>\n",
       "    <tr>\n",
       "      <th>Ace Ventura: Pet Detective (1994)</th>\n",
       "      <td>0.0</td>\n",
       "      <td>0.0</td>\n",
       "      <td>0.0</td>\n",
       "      <td>3.5</td>\n",
       "      <td>0.0</td>\n",
       "      <td>0.0</td>\n",
       "      <td>0.0</td>\n",
       "      <td>0.0</td>\n",
       "      <td>3.0</td>\n",
       "      <td>0.0</td>\n",
       "      <td>...</td>\n",
       "      <td>2.0</td>\n",
       "      <td>0.0</td>\n",
       "      <td>0.0</td>\n",
       "      <td>3.0</td>\n",
       "      <td>4.0</td>\n",
       "      <td>0.0</td>\n",
       "      <td>0.0</td>\n",
       "      <td>0.0</td>\n",
       "      <td>0.0</td>\n",
       "      <td>0.0</td>\n",
       "    </tr>\n",
       "    <tr>\n",
       "      <th>Ace Ventura: When Nature Calls (1995)</th>\n",
       "      <td>0.0</td>\n",
       "      <td>0.0</td>\n",
       "      <td>0.0</td>\n",
       "      <td>0.0</td>\n",
       "      <td>0.0</td>\n",
       "      <td>0.0</td>\n",
       "      <td>0.0</td>\n",
       "      <td>0.0</td>\n",
       "      <td>0.0</td>\n",
       "      <td>0.0</td>\n",
       "      <td>...</td>\n",
       "      <td>2.0</td>\n",
       "      <td>0.0</td>\n",
       "      <td>0.0</td>\n",
       "      <td>0.0</td>\n",
       "      <td>3.0</td>\n",
       "      <td>0.0</td>\n",
       "      <td>0.0</td>\n",
       "      <td>0.0</td>\n",
       "      <td>0.0</td>\n",
       "      <td>0.0</td>\n",
       "    </tr>\n",
       "    <tr>\n",
       "      <th>...</th>\n",
       "      <td>...</td>\n",
       "      <td>...</td>\n",
       "      <td>...</td>\n",
       "      <td>...</td>\n",
       "      <td>...</td>\n",
       "      <td>...</td>\n",
       "      <td>...</td>\n",
       "      <td>...</td>\n",
       "      <td>...</td>\n",
       "      <td>...</td>\n",
       "      <td>...</td>\n",
       "      <td>...</td>\n",
       "      <td>...</td>\n",
       "      <td>...</td>\n",
       "      <td>...</td>\n",
       "      <td>...</td>\n",
       "      <td>...</td>\n",
       "      <td>...</td>\n",
       "      <td>...</td>\n",
       "      <td>...</td>\n",
       "      <td>...</td>\n",
       "    </tr>\n",
       "    <tr>\n",
       "      <th>Willy Wonka &amp; the Chocolate Factory (1971)</th>\n",
       "      <td>0.0</td>\n",
       "      <td>0.0</td>\n",
       "      <td>5.0</td>\n",
       "      <td>0.0</td>\n",
       "      <td>0.0</td>\n",
       "      <td>3.0</td>\n",
       "      <td>0.0</td>\n",
       "      <td>0.0</td>\n",
       "      <td>0.0</td>\n",
       "      <td>0.0</td>\n",
       "      <td>...</td>\n",
       "      <td>0.0</td>\n",
       "      <td>0.0</td>\n",
       "      <td>0.0</td>\n",
       "      <td>5.0</td>\n",
       "      <td>0.0</td>\n",
       "      <td>0.0</td>\n",
       "      <td>0.0</td>\n",
       "      <td>0.0</td>\n",
       "      <td>0.0</td>\n",
       "      <td>0.0</td>\n",
       "    </tr>\n",
       "    <tr>\n",
       "      <th>Wizard of Oz, The (1939)</th>\n",
       "      <td>0.0</td>\n",
       "      <td>0.0</td>\n",
       "      <td>5.0</td>\n",
       "      <td>4.0</td>\n",
       "      <td>0.0</td>\n",
       "      <td>0.0</td>\n",
       "      <td>0.0</td>\n",
       "      <td>0.0</td>\n",
       "      <td>0.0</td>\n",
       "      <td>0.0</td>\n",
       "      <td>...</td>\n",
       "      <td>0.0</td>\n",
       "      <td>0.0</td>\n",
       "      <td>0.0</td>\n",
       "      <td>4.0</td>\n",
       "      <td>0.0</td>\n",
       "      <td>0.0</td>\n",
       "      <td>0.0</td>\n",
       "      <td>0.0</td>\n",
       "      <td>0.0</td>\n",
       "      <td>4.0</td>\n",
       "    </tr>\n",
       "    <tr>\n",
       "      <th>X-Men (2000)</th>\n",
       "      <td>0.0</td>\n",
       "      <td>0.0</td>\n",
       "      <td>0.0</td>\n",
       "      <td>0.0</td>\n",
       "      <td>0.0</td>\n",
       "      <td>0.0</td>\n",
       "      <td>0.0</td>\n",
       "      <td>0.0</td>\n",
       "      <td>0.0</td>\n",
       "      <td>0.0</td>\n",
       "      <td>...</td>\n",
       "      <td>0.0</td>\n",
       "      <td>0.0</td>\n",
       "      <td>4.0</td>\n",
       "      <td>4.0</td>\n",
       "      <td>0.0</td>\n",
       "      <td>0.0</td>\n",
       "      <td>0.0</td>\n",
       "      <td>0.0</td>\n",
       "      <td>0.0</td>\n",
       "      <td>0.0</td>\n",
       "    </tr>\n",
       "    <tr>\n",
       "      <th>X2: X-Men United (2003)</th>\n",
       "      <td>0.0</td>\n",
       "      <td>0.0</td>\n",
       "      <td>0.0</td>\n",
       "      <td>0.0</td>\n",
       "      <td>0.0</td>\n",
       "      <td>0.0</td>\n",
       "      <td>0.0</td>\n",
       "      <td>0.0</td>\n",
       "      <td>0.0</td>\n",
       "      <td>0.0</td>\n",
       "      <td>...</td>\n",
       "      <td>0.0</td>\n",
       "      <td>0.0</td>\n",
       "      <td>3.5</td>\n",
       "      <td>0.0</td>\n",
       "      <td>0.0</td>\n",
       "      <td>0.0</td>\n",
       "      <td>0.0</td>\n",
       "      <td>0.0</td>\n",
       "      <td>0.0</td>\n",
       "      <td>0.0</td>\n",
       "    </tr>\n",
       "    <tr>\n",
       "      <th>Young Frankenstein (1974)</th>\n",
       "      <td>0.0</td>\n",
       "      <td>0.0</td>\n",
       "      <td>5.0</td>\n",
       "      <td>0.0</td>\n",
       "      <td>0.0</td>\n",
       "      <td>3.0</td>\n",
       "      <td>0.0</td>\n",
       "      <td>0.0</td>\n",
       "      <td>0.0</td>\n",
       "      <td>0.0</td>\n",
       "      <td>...</td>\n",
       "      <td>0.0</td>\n",
       "      <td>0.0</td>\n",
       "      <td>0.0</td>\n",
       "      <td>0.0</td>\n",
       "      <td>0.0</td>\n",
       "      <td>0.0</td>\n",
       "      <td>0.0</td>\n",
       "      <td>0.0</td>\n",
       "      <td>0.0</td>\n",
       "      <td>0.0</td>\n",
       "    </tr>\n",
       "  </tbody>\n",
       "</table>\n",
       "<p>278 rows × 662 columns</p>\n",
       "</div>"
      ],
      "text/plain": [
       "userId                                      2    3    4    5    6    7    8    \\\n",
       "title                                                                           \n",
       "12 Angry Men (1957)                         0.0  0.0  0.0  0.0  0.0  0.0  0.0   \n",
       "2001: A Space Odyssey (1968)                0.0  0.0  0.0  0.0  0.0  4.0  0.0   \n",
       "Abyss, The (1989)                           0.0  0.0  5.0  0.0  0.0  0.0  0.0   \n",
       "Ace Ventura: Pet Detective (1994)           0.0  0.0  0.0  3.5  0.0  0.0  0.0   \n",
       "Ace Ventura: When Nature Calls (1995)       0.0  0.0  0.0  0.0  0.0  0.0  0.0   \n",
       "...                                         ...  ...  ...  ...  ...  ...  ...   \n",
       "Willy Wonka & the Chocolate Factory (1971)  0.0  0.0  5.0  0.0  0.0  3.0  0.0   \n",
       "Wizard of Oz, The (1939)                    0.0  0.0  5.0  4.0  0.0  0.0  0.0   \n",
       "X-Men (2000)                                0.0  0.0  0.0  0.0  0.0  0.0  0.0   \n",
       "X2: X-Men United (2003)                     0.0  0.0  0.0  0.0  0.0  0.0  0.0   \n",
       "Young Frankenstein (1974)                   0.0  0.0  5.0  0.0  0.0  3.0  0.0   \n",
       "\n",
       "userId                                      9    10   11   ...  662  663  664  \\\n",
       "title                                                      ...                  \n",
       "12 Angry Men (1957)                         0.0  0.0  0.0  ...  0.0  0.0  0.0   \n",
       "2001: A Space Odyssey (1968)                0.0  0.0  0.0  ...  0.0  0.0  4.0   \n",
       "Abyss, The (1989)                           0.0  4.0  0.0  ...  0.0  0.0  4.5   \n",
       "Ace Ventura: Pet Detective (1994)           0.0  3.0  0.0  ...  2.0  0.0  0.0   \n",
       "Ace Ventura: When Nature Calls (1995)       0.0  0.0  0.0  ...  2.0  0.0  0.0   \n",
       "...                                         ...  ...  ...  ...  ...  ...  ...   \n",
       "Willy Wonka & the Chocolate Factory (1971)  0.0  0.0  0.0  ...  0.0  0.0  0.0   \n",
       "Wizard of Oz, The (1939)                    0.0  0.0  0.0  ...  0.0  0.0  0.0   \n",
       "X-Men (2000)                                0.0  0.0  0.0  ...  0.0  0.0  4.0   \n",
       "X2: X-Men United (2003)                     0.0  0.0  0.0  ...  0.0  0.0  3.5   \n",
       "Young Frankenstein (1974)                   0.0  0.0  0.0  ...  0.0  0.0  0.0   \n",
       "\n",
       "userId                                      665  666  667  668  669  670  671  \n",
       "title                                                                          \n",
       "12 Angry Men (1957)                         0.0  0.0  0.0  0.0  0.0  0.0  0.0  \n",
       "2001: A Space Odyssey (1968)                0.0  0.0  0.0  0.0  0.0  0.0  0.0  \n",
       "Abyss, The (1989)                           0.0  0.0  0.0  0.0  0.0  0.0  0.0  \n",
       "Ace Ventura: Pet Detective (1994)           3.0  4.0  0.0  0.0  0.0  0.0  0.0  \n",
       "Ace Ventura: When Nature Calls (1995)       0.0  3.0  0.0  0.0  0.0  0.0  0.0  \n",
       "...                                         ...  ...  ...  ...  ...  ...  ...  \n",
       "Willy Wonka & the Chocolate Factory (1971)  5.0  0.0  0.0  0.0  0.0  0.0  0.0  \n",
       "Wizard of Oz, The (1939)                    4.0  0.0  0.0  0.0  0.0  0.0  4.0  \n",
       "X-Men (2000)                                4.0  0.0  0.0  0.0  0.0  0.0  0.0  \n",
       "X2: X-Men United (2003)                     0.0  0.0  0.0  0.0  0.0  0.0  0.0  \n",
       "Young Frankenstein (1974)                   0.0  0.0  0.0  0.0  0.0  0.0  0.0  \n",
       "\n",
       "[278 rows x 662 columns]"
      ]
     },
     "execution_count": 57,
     "metadata": {},
     "output_type": "execute_result"
    }
   ],
   "source": [
    "# lets check the pivot table\n",
    "pvt_table1"
   ]
  },
  {
   "cell_type": "code",
   "execution_count": 58,
   "id": "c3f1e026",
   "metadata": {
    "tags": []
   },
   "outputs": [],
   "source": [
    "# Convert the pivot_table into an sparse matrix\n",
    "\n",
    "features_matrix=csr_matrix(pvt_table1.values)"
   ]
  },
  {
   "cell_type": "code",
   "execution_count": 59,
   "id": "d55de52d",
   "metadata": {
    "tags": []
   },
   "outputs": [],
   "source": [
    "# lets buid the model first\n",
    "# using the brute force method in KNN algorithm\n",
    "model = NearestNeighbors(metric = 'cosine', algorithm = 'brute')"
   ]
  },
  {
   "cell_type": "code",
   "execution_count": 60,
   "id": "ea752d25",
   "metadata": {
    "tags": []
   },
   "outputs": [
    {
     "data": {
      "text/html": [
       "<style>#sk-container-id-1 {color: black;}#sk-container-id-1 pre{padding: 0;}#sk-container-id-1 div.sk-toggleable {background-color: white;}#sk-container-id-1 label.sk-toggleable__label {cursor: pointer;display: block;width: 100%;margin-bottom: 0;padding: 0.3em;box-sizing: border-box;text-align: center;}#sk-container-id-1 label.sk-toggleable__label-arrow:before {content: \"▸\";float: left;margin-right: 0.25em;color: #696969;}#sk-container-id-1 label.sk-toggleable__label-arrow:hover:before {color: black;}#sk-container-id-1 div.sk-estimator:hover label.sk-toggleable__label-arrow:before {color: black;}#sk-container-id-1 div.sk-toggleable__content {max-height: 0;max-width: 0;overflow: hidden;text-align: left;background-color: #f0f8ff;}#sk-container-id-1 div.sk-toggleable__content pre {margin: 0.2em;color: black;border-radius: 0.25em;background-color: #f0f8ff;}#sk-container-id-1 input.sk-toggleable__control:checked~div.sk-toggleable__content {max-height: 200px;max-width: 100%;overflow: auto;}#sk-container-id-1 input.sk-toggleable__control:checked~label.sk-toggleable__label-arrow:before {content: \"▾\";}#sk-container-id-1 div.sk-estimator input.sk-toggleable__control:checked~label.sk-toggleable__label {background-color: #d4ebff;}#sk-container-id-1 div.sk-label input.sk-toggleable__control:checked~label.sk-toggleable__label {background-color: #d4ebff;}#sk-container-id-1 input.sk-hidden--visually {border: 0;clip: rect(1px 1px 1px 1px);clip: rect(1px, 1px, 1px, 1px);height: 1px;margin: -1px;overflow: hidden;padding: 0;position: absolute;width: 1px;}#sk-container-id-1 div.sk-estimator {font-family: monospace;background-color: #f0f8ff;border: 1px dotted black;border-radius: 0.25em;box-sizing: border-box;margin-bottom: 0.5em;}#sk-container-id-1 div.sk-estimator:hover {background-color: #d4ebff;}#sk-container-id-1 div.sk-parallel-item::after {content: \"\";width: 100%;border-bottom: 1px solid gray;flex-grow: 1;}#sk-container-id-1 div.sk-label:hover label.sk-toggleable__label {background-color: #d4ebff;}#sk-container-id-1 div.sk-serial::before {content: \"\";position: absolute;border-left: 1px solid gray;box-sizing: border-box;top: 0;bottom: 0;left: 50%;z-index: 0;}#sk-container-id-1 div.sk-serial {display: flex;flex-direction: column;align-items: center;background-color: white;padding-right: 0.2em;padding-left: 0.2em;position: relative;}#sk-container-id-1 div.sk-item {position: relative;z-index: 1;}#sk-container-id-1 div.sk-parallel {display: flex;align-items: stretch;justify-content: center;background-color: white;position: relative;}#sk-container-id-1 div.sk-item::before, #sk-container-id-1 div.sk-parallel-item::before {content: \"\";position: absolute;border-left: 1px solid gray;box-sizing: border-box;top: 0;bottom: 0;left: 50%;z-index: -1;}#sk-container-id-1 div.sk-parallel-item {display: flex;flex-direction: column;z-index: 1;position: relative;background-color: white;}#sk-container-id-1 div.sk-parallel-item:first-child::after {align-self: flex-end;width: 50%;}#sk-container-id-1 div.sk-parallel-item:last-child::after {align-self: flex-start;width: 50%;}#sk-container-id-1 div.sk-parallel-item:only-child::after {width: 0;}#sk-container-id-1 div.sk-dashed-wrapped {border: 1px dashed gray;margin: 0 0.4em 0.5em 0.4em;box-sizing: border-box;padding-bottom: 0.4em;background-color: white;}#sk-container-id-1 div.sk-label label {font-family: monospace;font-weight: bold;display: inline-block;line-height: 1.2em;}#sk-container-id-1 div.sk-label-container {text-align: center;}#sk-container-id-1 div.sk-container {/* jupyter's `normalize.less` sets `[hidden] { display: none; }` but bootstrap.min.css set `[hidden] { display: none !important; }` so we also need the `!important` here to be able to override the default hidden behavior on the sphinx rendered scikit-learn.org. See: https://github.com/scikit-learn/scikit-learn/issues/21755 */display: inline-block !important;position: relative;}#sk-container-id-1 div.sk-text-repr-fallback {display: none;}</style><div id=\"sk-container-id-1\" class=\"sk-top-container\"><div class=\"sk-text-repr-fallback\"><pre>NearestNeighbors(algorithm=&#x27;brute&#x27;, metric=&#x27;cosine&#x27;)</pre><b>In a Jupyter environment, please rerun this cell to show the HTML representation or trust the notebook. <br />On GitHub, the HTML representation is unable to render, please try loading this page with nbviewer.org.</b></div><div class=\"sk-container\" hidden><div class=\"sk-item\"><div class=\"sk-estimator sk-toggleable\"><input class=\"sk-toggleable__control sk-hidden--visually\" id=\"sk-estimator-id-1\" type=\"checkbox\" checked><label for=\"sk-estimator-id-1\" class=\"sk-toggleable__label sk-toggleable__label-arrow\">NearestNeighbors</label><div class=\"sk-toggleable__content\"><pre>NearestNeighbors(algorithm=&#x27;brute&#x27;, metric=&#x27;cosine&#x27;)</pre></div></div></div></div></div>"
      ],
      "text/plain": [
       "NearestNeighbors(algorithm='brute', metric='cosine')"
      ]
     },
     "execution_count": 60,
     "metadata": {},
     "output_type": "execute_result"
    }
   ],
   "source": [
    "# giving our feature_s matrix to the model\n",
    "\n",
    "model.fit(features_matrix)"
   ]
  },
  {
   "cell_type": "code",
   "execution_count": 61,
   "id": "216de1d9",
   "metadata": {
    "tags": []
   },
   "outputs": [
    {
     "data": {
      "text/plain": [
       "140"
      ]
     },
     "execution_count": 61,
     "metadata": {},
     "output_type": "execute_result"
    }
   ],
   "source": [
    "# picking up one random movie (index)\n",
    "\n",
    "query_index = np.random.choice(pvt_table1.shape[0])\n",
    "query_index"
   ]
  },
  {
   "cell_type": "code",
   "execution_count": 62,
   "id": "0da1795f",
   "metadata": {
    "tags": []
   },
   "outputs": [
    {
     "data": {
      "text/plain": [
       "313"
      ]
     },
     "execution_count": 62,
     "metadata": {},
     "output_type": "execute_result"
    }
   ],
   "source": [
    "#picking up one random user (column)\n",
    "\n",
    "query_col = np.random.choice(pvt_table1.shape[1])\n",
    "query_col"
   ]
  },
  {
   "cell_type": "code",
   "execution_count": 63,
   "id": "f4139ce5",
   "metadata": {
    "tags": []
   },
   "outputs": [
    {
     "data": {
      "text/plain": [
       "userId\n",
       "2      0.0\n",
       "3      0.0\n",
       "4      0.0\n",
       "5      0.0\n",
       "6      0.0\n",
       "      ... \n",
       "667    0.0\n",
       "668    0.0\n",
       "669    0.0\n",
       "670    0.0\n",
       "671    0.0\n",
       "Name: Juno (2007), Length: 662, dtype: float64"
      ]
     },
     "execution_count": 63,
     "metadata": {},
     "output_type": "execute_result"
    }
   ],
   "source": [
    "# checking the movies from the querindex to end\n",
    "pvt_table1.iloc[query_index,:]"
   ]
  },
  {
   "cell_type": "code",
   "execution_count": 64,
   "id": "78622b51",
   "metadata": {
    "tags": []
   },
   "outputs": [
    {
     "data": {
      "text/plain": [
       "array([[0. , 0. , 0. , 0. , 0. , 0. , 0. , 0. , 0. , 0. , 0. , 0. , 0. ,\n",
       "        2. , 0. , 0. , 0. , 0. , 0. , 0. , 0. , 0. , 0. , 0. , 0. , 0. ,\n",
       "        0. , 0. , 0. , 0. , 0. , 0. , 0. , 0. , 0. , 0. , 0. , 0. , 0. ,\n",
       "        0. , 0. , 0. , 0. , 0. , 0. , 3.5, 0. , 0. , 0. , 0. , 0. , 0. ,\n",
       "        0. , 5. , 0. , 0. , 0. , 0. , 4.5, 0. , 0. , 0. , 0. , 0. , 0. ,\n",
       "        4.5, 0. , 0. , 0. , 4. , 3.5, 0. , 0. , 0. , 0. , 0. , 0. , 0. ,\n",
       "        0. , 0. , 0. , 0. , 0. , 0. , 5. , 0. , 0. , 0. , 0. , 5. , 3.5,\n",
       "        0. , 3.5, 4. , 0. , 0. , 0. , 0. , 0. , 0. , 0. , 0. , 3.5, 0. ,\n",
       "        0. , 0. , 0. , 0. , 0. , 0. , 0. , 0. , 0. , 0. , 0. , 0. , 0. ,\n",
       "        0. , 0. , 0. , 0. , 4.5, 0. , 0. , 0. , 0. , 0. , 0. , 4. , 5. ,\n",
       "        0. , 0. , 0. , 0. , 0. , 0. , 0. , 0. , 0. , 0. , 0. , 0. , 3. ,\n",
       "        5. , 0. , 4. , 0. , 0. , 4. , 0. , 0. , 0. , 4. , 4. , 0. , 0. ,\n",
       "        0. , 0. , 0. , 0. , 0. , 0. , 0. , 0. , 0. , 0. , 0. , 0. , 0. ,\n",
       "        0. , 0. , 0. , 3.5, 0. , 3. , 3.5, 0. , 0. , 0. , 0. , 0. , 0. ,\n",
       "        0. , 4. , 0. , 0. , 0. , 0. , 0. , 0. , 0. , 0. , 0. , 0. , 0. ,\n",
       "        0. , 4. , 0. , 0. , 0. , 0. , 3.5, 0. , 0. , 0. , 0. , 0. , 0. ,\n",
       "        4.5, 0. , 0. , 0. , 0. , 0. , 0. , 0. , 0. , 0. , 0. , 0. , 0. ,\n",
       "        0. , 0. , 0. , 0. , 0. , 0. , 0. , 0. , 0. , 4. , 0. , 0. , 0. ,\n",
       "        3.5, 0. , 0. , 0. , 0. , 0. , 0. , 0. , 0. , 0. , 0. , 0. , 4. ,\n",
       "        0. , 0. , 0. , 0. , 0. , 0. , 0. , 0. , 0. , 0. , 0. , 3. , 0. ,\n",
       "        0. , 0. , 0. , 0. , 4.5, 0. , 4. , 0. , 0. , 0. , 0. , 4. , 0. ,\n",
       "        0. , 0. , 0. , 0. , 0. , 0. , 0. , 0. , 0. , 0. , 0. , 0. , 0. ,\n",
       "        0. , 0. , 0. , 0. , 0. , 0. , 2.5, 0. , 0. , 0. , 0. , 4. , 0. ,\n",
       "        0. , 0. , 5. , 0. , 0. , 0. , 0. , 0. , 0. , 0. , 0. , 0. , 0. ,\n",
       "        0. , 3.5, 0. , 0. , 0. , 3.5, 0. , 0. , 0. , 0. , 0. , 0. , 0. ,\n",
       "        0. , 0. , 0. , 0. , 0. , 0. , 0. , 0. , 0. , 0. , 0. , 0. , 0. ,\n",
       "        0. , 0. , 0. , 0. , 0. , 0. , 0. , 0. , 0. , 0. , 0. , 0. , 0. ,\n",
       "        0. , 0. , 0. , 0. , 0. , 4. , 0. , 0. , 0. , 0. , 0. , 0. , 0. ,\n",
       "        0. , 0. , 0. , 0. , 0. , 0. , 3.5, 0. , 5. , 0. , 2.5, 0. , 4. ,\n",
       "        0. , 0. , 0. , 0. , 0. , 0. , 0. , 0. , 0. , 0. , 0. , 0. , 0. ,\n",
       "        0. , 0. , 0. , 0. , 0. , 0. , 0. , 0. , 3. , 0. , 0. , 0. , 0. ,\n",
       "        0. , 0. , 0. , 0. , 0. , 0. , 0. , 0. , 0. , 0. , 0. , 0. , 2.5,\n",
       "        0. , 0. , 3.5, 0. , 4.5, 0. , 0. , 0. , 0. , 0. , 0. , 0. , 0. ,\n",
       "        0. , 0. , 0. , 0. , 0. , 0. , 0. , 0. , 0. , 0. , 0. , 0. , 0. ,\n",
       "        0. , 0. , 0. , 0. , 0. , 0. , 0. , 3. , 0. , 0. , 0. , 0. , 0. ,\n",
       "        0. , 0. , 0. , 0. , 0. , 3.5, 0. , 0. , 0. , 0. , 0. , 0. , 3.5,\n",
       "        0. , 0. , 0. , 5. , 0. , 5. , 0. , 0. , 0. , 0. , 0. , 0. , 0. ,\n",
       "        0. , 0. , 0. , 0. , 0. , 0. , 0. , 0. , 0. , 0. , 4.5, 4.5, 0. ,\n",
       "        0. , 0. , 3. , 0. , 0. , 0. , 0. , 0. , 0. , 0. , 0. , 0. , 4. ,\n",
       "        0. , 0. , 0. , 0. , 0. , 0. , 3. , 0. , 0. , 0. , 0. , 0. , 0. ,\n",
       "        4. , 0. , 0. , 0. , 0. , 0. , 0. , 0. , 0. , 0. , 0. , 0. , 0. ,\n",
       "        0. , 0. , 5. , 0. , 0. , 4.5, 0. , 0. , 0. , 0. , 0. , 2. , 0. ,\n",
       "        0. , 0. , 0. , 0. , 0. , 0. , 0. , 0. , 0. , 0. , 0. , 0. , 0. ,\n",
       "        0. , 0. , 0. , 0. , 0. , 0. , 4.5, 0. , 0. , 0. , 0. , 0. , 4. ,\n",
       "        0. , 0. , 0. , 0. , 0. , 0. , 3.5, 0. , 0. , 0. , 0. , 0. , 0. ,\n",
       "        0. , 0. , 0. , 0. , 0. , 3.5, 0. , 0. , 0. , 0. , 0. , 0. , 0. ,\n",
       "        0. , 0. , 0. , 4. , 0. , 0. , 0. , 0. , 4. , 0. , 0. , 0. , 0. ,\n",
       "        0. , 0. , 0. , 3.5, 0. , 0. , 0. , 0. , 0. , 0. , 0. , 0. , 0. ,\n",
       "        0. , 0. , 0. , 0. , 0. , 0. , 0. , 0. , 0. , 0. , 0. , 0. , 0. ,\n",
       "        0. , 0. , 0. , 0. , 0. , 0. , 0. , 0. , 0. , 0. , 0. , 0. , 0. ,\n",
       "        0. , 0. , 0. , 0. , 3. , 0. , 0. , 0. , 0. , 0. , 0. , 0. ]])"
      ]
     },
     "execution_count": 64,
     "metadata": {},
     "output_type": "execute_result"
    }
   ],
   "source": [
    "# Reshapig the table as I want all the data in array series\n",
    "pvt_table1.iloc[query_index,:].values.reshape(1,-1)\n",
    "\n",
    "# I am doing this because the model accept a single array"
   ]
  },
  {
   "cell_type": "code",
   "execution_count": 65,
   "id": "405f5211",
   "metadata": {
    "tags": []
   },
   "outputs": [],
   "source": [
    "# To check similar movie for query_index where query_index is a movie_ID\n",
    "# values.reshape(1, -1),to get in the form of series\n",
    "\n",
    "distances, indices = model.kneighbors(pvt_table1.iloc[query_index,:].values.reshape(1,-1),n_neighbors=8)"
   ]
  },
  {
   "cell_type": "code",
   "execution_count": 66,
   "id": "a753704b",
   "metadata": {
    "tags": []
   },
   "outputs": [
    {
     "data": {
      "text/plain": [
       "array([[0.        , 0.31551102, 0.49261599, 0.50245835, 0.50966611,\n",
       "        0.52155236, 0.52727389, 0.538241  ]])"
      ]
     },
     "execution_count": 66,
     "metadata": {},
     "output_type": "execute_result"
    }
   ],
   "source": [
    "# Here are the 8 nearest neighbours distances from movieId 227 (query index)\n",
    "distances"
   ]
  },
  {
   "cell_type": "code",
   "execution_count": 67,
   "id": "ded6ab7e",
   "metadata": {
    "tags": []
   },
   "outputs": [
    {
     "data": {
      "text/plain": [
       "array([140, 152,  75, 264,  89, 134,  70, 128])"
      ]
     },
     "execution_count": 67,
     "metadata": {},
     "output_type": "execute_result"
    }
   ],
   "source": [
    "# converting it in 1-D array\n",
    "indices.flatten()"
   ]
  },
  {
   "cell_type": "code",
   "execution_count": 68,
   "id": "7cf048a5",
   "metadata": {
    "tags": []
   },
   "outputs": [],
   "source": [
    "# these are the movie Id and there corresponding distances calculated above\n",
    "# these are the movies that get recommended"
   ]
  },
  {
   "cell_type": "markdown",
   "id": "23be5f38",
   "metadata": {},
   "source": [
    "# Making the model more user freindly"
   ]
  },
  {
   "cell_type": "code",
   "execution_count": 69,
   "id": "d8c9baea",
   "metadata": {
    "tags": []
   },
   "outputs": [
    {
     "data": {
      "text/html": [
       "<div>\n",
       "<style scoped>\n",
       "    .dataframe tbody tr th:only-of-type {\n",
       "        vertical-align: middle;\n",
       "    }\n",
       "\n",
       "    .dataframe tbody tr th {\n",
       "        vertical-align: top;\n",
       "    }\n",
       "\n",
       "    .dataframe thead th {\n",
       "        text-align: right;\n",
       "    }\n",
       "</style>\n",
       "<table border=\"1\" class=\"dataframe\">\n",
       "  <thead>\n",
       "    <tr style=\"text-align: right;\">\n",
       "      <th>userId</th>\n",
       "      <th>2</th>\n",
       "      <th>3</th>\n",
       "      <th>4</th>\n",
       "      <th>5</th>\n",
       "      <th>6</th>\n",
       "      <th>7</th>\n",
       "      <th>8</th>\n",
       "      <th>9</th>\n",
       "      <th>10</th>\n",
       "      <th>11</th>\n",
       "      <th>...</th>\n",
       "      <th>662</th>\n",
       "      <th>663</th>\n",
       "      <th>664</th>\n",
       "      <th>665</th>\n",
       "      <th>666</th>\n",
       "      <th>667</th>\n",
       "      <th>668</th>\n",
       "      <th>669</th>\n",
       "      <th>670</th>\n",
       "      <th>671</th>\n",
       "    </tr>\n",
       "    <tr>\n",
       "      <th>title</th>\n",
       "      <th></th>\n",
       "      <th></th>\n",
       "      <th></th>\n",
       "      <th></th>\n",
       "      <th></th>\n",
       "      <th></th>\n",
       "      <th></th>\n",
       "      <th></th>\n",
       "      <th></th>\n",
       "      <th></th>\n",
       "      <th></th>\n",
       "      <th></th>\n",
       "      <th></th>\n",
       "      <th></th>\n",
       "      <th></th>\n",
       "      <th></th>\n",
       "      <th></th>\n",
       "      <th></th>\n",
       "      <th></th>\n",
       "      <th></th>\n",
       "      <th></th>\n",
       "    </tr>\n",
       "  </thead>\n",
       "  <tbody>\n",
       "    <tr>\n",
       "      <th>12 Angry Men (1957)</th>\n",
       "      <td>0.0</td>\n",
       "      <td>0.0</td>\n",
       "      <td>0.0</td>\n",
       "      <td>0.0</td>\n",
       "      <td>0.0</td>\n",
       "      <td>0.0</td>\n",
       "      <td>0.0</td>\n",
       "      <td>0.0</td>\n",
       "      <td>0.0</td>\n",
       "      <td>0.0</td>\n",
       "      <td>...</td>\n",
       "      <td>0.0</td>\n",
       "      <td>0.0</td>\n",
       "      <td>0.0</td>\n",
       "      <td>0.0</td>\n",
       "      <td>0.0</td>\n",
       "      <td>0.0</td>\n",
       "      <td>0.0</td>\n",
       "      <td>0.0</td>\n",
       "      <td>0.0</td>\n",
       "      <td>0.0</td>\n",
       "    </tr>\n",
       "    <tr>\n",
       "      <th>2001: A Space Odyssey (1968)</th>\n",
       "      <td>0.0</td>\n",
       "      <td>0.0</td>\n",
       "      <td>0.0</td>\n",
       "      <td>0.0</td>\n",
       "      <td>0.0</td>\n",
       "      <td>4.0</td>\n",
       "      <td>0.0</td>\n",
       "      <td>0.0</td>\n",
       "      <td>0.0</td>\n",
       "      <td>0.0</td>\n",
       "      <td>...</td>\n",
       "      <td>0.0</td>\n",
       "      <td>0.0</td>\n",
       "      <td>4.0</td>\n",
       "      <td>0.0</td>\n",
       "      <td>0.0</td>\n",
       "      <td>0.0</td>\n",
       "      <td>0.0</td>\n",
       "      <td>0.0</td>\n",
       "      <td>0.0</td>\n",
       "      <td>0.0</td>\n",
       "    </tr>\n",
       "    <tr>\n",
       "      <th>Abyss, The (1989)</th>\n",
       "      <td>0.0</td>\n",
       "      <td>0.0</td>\n",
       "      <td>5.0</td>\n",
       "      <td>0.0</td>\n",
       "      <td>0.0</td>\n",
       "      <td>0.0</td>\n",
       "      <td>0.0</td>\n",
       "      <td>0.0</td>\n",
       "      <td>4.0</td>\n",
       "      <td>0.0</td>\n",
       "      <td>...</td>\n",
       "      <td>0.0</td>\n",
       "      <td>0.0</td>\n",
       "      <td>4.5</td>\n",
       "      <td>0.0</td>\n",
       "      <td>0.0</td>\n",
       "      <td>0.0</td>\n",
       "      <td>0.0</td>\n",
       "      <td>0.0</td>\n",
       "      <td>0.0</td>\n",
       "      <td>0.0</td>\n",
       "    </tr>\n",
       "    <tr>\n",
       "      <th>Ace Ventura: Pet Detective (1994)</th>\n",
       "      <td>0.0</td>\n",
       "      <td>0.0</td>\n",
       "      <td>0.0</td>\n",
       "      <td>3.5</td>\n",
       "      <td>0.0</td>\n",
       "      <td>0.0</td>\n",
       "      <td>0.0</td>\n",
       "      <td>0.0</td>\n",
       "      <td>3.0</td>\n",
       "      <td>0.0</td>\n",
       "      <td>...</td>\n",
       "      <td>2.0</td>\n",
       "      <td>0.0</td>\n",
       "      <td>0.0</td>\n",
       "      <td>3.0</td>\n",
       "      <td>4.0</td>\n",
       "      <td>0.0</td>\n",
       "      <td>0.0</td>\n",
       "      <td>0.0</td>\n",
       "      <td>0.0</td>\n",
       "      <td>0.0</td>\n",
       "    </tr>\n",
       "    <tr>\n",
       "      <th>Ace Ventura: When Nature Calls (1995)</th>\n",
       "      <td>0.0</td>\n",
       "      <td>0.0</td>\n",
       "      <td>0.0</td>\n",
       "      <td>0.0</td>\n",
       "      <td>0.0</td>\n",
       "      <td>0.0</td>\n",
       "      <td>0.0</td>\n",
       "      <td>0.0</td>\n",
       "      <td>0.0</td>\n",
       "      <td>0.0</td>\n",
       "      <td>...</td>\n",
       "      <td>2.0</td>\n",
       "      <td>0.0</td>\n",
       "      <td>0.0</td>\n",
       "      <td>0.0</td>\n",
       "      <td>3.0</td>\n",
       "      <td>0.0</td>\n",
       "      <td>0.0</td>\n",
       "      <td>0.0</td>\n",
       "      <td>0.0</td>\n",
       "      <td>0.0</td>\n",
       "    </tr>\n",
       "    <tr>\n",
       "      <th>...</th>\n",
       "      <td>...</td>\n",
       "      <td>...</td>\n",
       "      <td>...</td>\n",
       "      <td>...</td>\n",
       "      <td>...</td>\n",
       "      <td>...</td>\n",
       "      <td>...</td>\n",
       "      <td>...</td>\n",
       "      <td>...</td>\n",
       "      <td>...</td>\n",
       "      <td>...</td>\n",
       "      <td>...</td>\n",
       "      <td>...</td>\n",
       "      <td>...</td>\n",
       "      <td>...</td>\n",
       "      <td>...</td>\n",
       "      <td>...</td>\n",
       "      <td>...</td>\n",
       "      <td>...</td>\n",
       "      <td>...</td>\n",
       "      <td>...</td>\n",
       "    </tr>\n",
       "    <tr>\n",
       "      <th>Willy Wonka &amp; the Chocolate Factory (1971)</th>\n",
       "      <td>0.0</td>\n",
       "      <td>0.0</td>\n",
       "      <td>5.0</td>\n",
       "      <td>0.0</td>\n",
       "      <td>0.0</td>\n",
       "      <td>3.0</td>\n",
       "      <td>0.0</td>\n",
       "      <td>0.0</td>\n",
       "      <td>0.0</td>\n",
       "      <td>0.0</td>\n",
       "      <td>...</td>\n",
       "      <td>0.0</td>\n",
       "      <td>0.0</td>\n",
       "      <td>0.0</td>\n",
       "      <td>5.0</td>\n",
       "      <td>0.0</td>\n",
       "      <td>0.0</td>\n",
       "      <td>0.0</td>\n",
       "      <td>0.0</td>\n",
       "      <td>0.0</td>\n",
       "      <td>0.0</td>\n",
       "    </tr>\n",
       "    <tr>\n",
       "      <th>Wizard of Oz, The (1939)</th>\n",
       "      <td>0.0</td>\n",
       "      <td>0.0</td>\n",
       "      <td>5.0</td>\n",
       "      <td>4.0</td>\n",
       "      <td>0.0</td>\n",
       "      <td>0.0</td>\n",
       "      <td>0.0</td>\n",
       "      <td>0.0</td>\n",
       "      <td>0.0</td>\n",
       "      <td>0.0</td>\n",
       "      <td>...</td>\n",
       "      <td>0.0</td>\n",
       "      <td>0.0</td>\n",
       "      <td>0.0</td>\n",
       "      <td>4.0</td>\n",
       "      <td>0.0</td>\n",
       "      <td>0.0</td>\n",
       "      <td>0.0</td>\n",
       "      <td>0.0</td>\n",
       "      <td>0.0</td>\n",
       "      <td>4.0</td>\n",
       "    </tr>\n",
       "    <tr>\n",
       "      <th>X-Men (2000)</th>\n",
       "      <td>0.0</td>\n",
       "      <td>0.0</td>\n",
       "      <td>0.0</td>\n",
       "      <td>0.0</td>\n",
       "      <td>0.0</td>\n",
       "      <td>0.0</td>\n",
       "      <td>0.0</td>\n",
       "      <td>0.0</td>\n",
       "      <td>0.0</td>\n",
       "      <td>0.0</td>\n",
       "      <td>...</td>\n",
       "      <td>0.0</td>\n",
       "      <td>0.0</td>\n",
       "      <td>4.0</td>\n",
       "      <td>4.0</td>\n",
       "      <td>0.0</td>\n",
       "      <td>0.0</td>\n",
       "      <td>0.0</td>\n",
       "      <td>0.0</td>\n",
       "      <td>0.0</td>\n",
       "      <td>0.0</td>\n",
       "    </tr>\n",
       "    <tr>\n",
       "      <th>X2: X-Men United (2003)</th>\n",
       "      <td>0.0</td>\n",
       "      <td>0.0</td>\n",
       "      <td>0.0</td>\n",
       "      <td>0.0</td>\n",
       "      <td>0.0</td>\n",
       "      <td>0.0</td>\n",
       "      <td>0.0</td>\n",
       "      <td>0.0</td>\n",
       "      <td>0.0</td>\n",
       "      <td>0.0</td>\n",
       "      <td>...</td>\n",
       "      <td>0.0</td>\n",
       "      <td>0.0</td>\n",
       "      <td>3.5</td>\n",
       "      <td>0.0</td>\n",
       "      <td>0.0</td>\n",
       "      <td>0.0</td>\n",
       "      <td>0.0</td>\n",
       "      <td>0.0</td>\n",
       "      <td>0.0</td>\n",
       "      <td>0.0</td>\n",
       "    </tr>\n",
       "    <tr>\n",
       "      <th>Young Frankenstein (1974)</th>\n",
       "      <td>0.0</td>\n",
       "      <td>0.0</td>\n",
       "      <td>5.0</td>\n",
       "      <td>0.0</td>\n",
       "      <td>0.0</td>\n",
       "      <td>3.0</td>\n",
       "      <td>0.0</td>\n",
       "      <td>0.0</td>\n",
       "      <td>0.0</td>\n",
       "      <td>0.0</td>\n",
       "      <td>...</td>\n",
       "      <td>0.0</td>\n",
       "      <td>0.0</td>\n",
       "      <td>0.0</td>\n",
       "      <td>0.0</td>\n",
       "      <td>0.0</td>\n",
       "      <td>0.0</td>\n",
       "      <td>0.0</td>\n",
       "      <td>0.0</td>\n",
       "      <td>0.0</td>\n",
       "      <td>0.0</td>\n",
       "    </tr>\n",
       "  </tbody>\n",
       "</table>\n",
       "<p>278 rows × 662 columns</p>\n",
       "</div>"
      ],
      "text/plain": [
       "userId                                      2    3    4    5    6    7    8    \\\n",
       "title                                                                           \n",
       "12 Angry Men (1957)                         0.0  0.0  0.0  0.0  0.0  0.0  0.0   \n",
       "2001: A Space Odyssey (1968)                0.0  0.0  0.0  0.0  0.0  4.0  0.0   \n",
       "Abyss, The (1989)                           0.0  0.0  5.0  0.0  0.0  0.0  0.0   \n",
       "Ace Ventura: Pet Detective (1994)           0.0  0.0  0.0  3.5  0.0  0.0  0.0   \n",
       "Ace Ventura: When Nature Calls (1995)       0.0  0.0  0.0  0.0  0.0  0.0  0.0   \n",
       "...                                         ...  ...  ...  ...  ...  ...  ...   \n",
       "Willy Wonka & the Chocolate Factory (1971)  0.0  0.0  5.0  0.0  0.0  3.0  0.0   \n",
       "Wizard of Oz, The (1939)                    0.0  0.0  5.0  4.0  0.0  0.0  0.0   \n",
       "X-Men (2000)                                0.0  0.0  0.0  0.0  0.0  0.0  0.0   \n",
       "X2: X-Men United (2003)                     0.0  0.0  0.0  0.0  0.0  0.0  0.0   \n",
       "Young Frankenstein (1974)                   0.0  0.0  5.0  0.0  0.0  3.0  0.0   \n",
       "\n",
       "userId                                      9    10   11   ...  662  663  664  \\\n",
       "title                                                      ...                  \n",
       "12 Angry Men (1957)                         0.0  0.0  0.0  ...  0.0  0.0  0.0   \n",
       "2001: A Space Odyssey (1968)                0.0  0.0  0.0  ...  0.0  0.0  4.0   \n",
       "Abyss, The (1989)                           0.0  4.0  0.0  ...  0.0  0.0  4.5   \n",
       "Ace Ventura: Pet Detective (1994)           0.0  3.0  0.0  ...  2.0  0.0  0.0   \n",
       "Ace Ventura: When Nature Calls (1995)       0.0  0.0  0.0  ...  2.0  0.0  0.0   \n",
       "...                                         ...  ...  ...  ...  ...  ...  ...   \n",
       "Willy Wonka & the Chocolate Factory (1971)  0.0  0.0  0.0  ...  0.0  0.0  0.0   \n",
       "Wizard of Oz, The (1939)                    0.0  0.0  0.0  ...  0.0  0.0  0.0   \n",
       "X-Men (2000)                                0.0  0.0  0.0  ...  0.0  0.0  4.0   \n",
       "X2: X-Men United (2003)                     0.0  0.0  0.0  ...  0.0  0.0  3.5   \n",
       "Young Frankenstein (1974)                   0.0  0.0  0.0  ...  0.0  0.0  0.0   \n",
       "\n",
       "userId                                      665  666  667  668  669  670  671  \n",
       "title                                                                          \n",
       "12 Angry Men (1957)                         0.0  0.0  0.0  0.0  0.0  0.0  0.0  \n",
       "2001: A Space Odyssey (1968)                0.0  0.0  0.0  0.0  0.0  0.0  0.0  \n",
       "Abyss, The (1989)                           0.0  0.0  0.0  0.0  0.0  0.0  0.0  \n",
       "Ace Ventura: Pet Detective (1994)           3.0  4.0  0.0  0.0  0.0  0.0  0.0  \n",
       "Ace Ventura: When Nature Calls (1995)       0.0  3.0  0.0  0.0  0.0  0.0  0.0  \n",
       "...                                         ...  ...  ...  ...  ...  ...  ...  \n",
       "Willy Wonka & the Chocolate Factory (1971)  5.0  0.0  0.0  0.0  0.0  0.0  0.0  \n",
       "Wizard of Oz, The (1939)                    4.0  0.0  0.0  0.0  0.0  0.0  4.0  \n",
       "X-Men (2000)                                4.0  0.0  0.0  0.0  0.0  0.0  0.0  \n",
       "X2: X-Men United (2003)                     0.0  0.0  0.0  0.0  0.0  0.0  0.0  \n",
       "Young Frankenstein (1974)                   0.0  0.0  0.0  0.0  0.0  0.0  0.0  \n",
       "\n",
       "[278 rows x 662 columns]"
      ]
     },
     "execution_count": 69,
     "metadata": {},
     "output_type": "execute_result"
    }
   ],
   "source": [
    "# let's check the moive\n",
    "pvt_table1"
   ]
  },
  {
   "cell_type": "code",
   "execution_count": 70,
   "id": "27b097bf",
   "metadata": {
    "tags": []
   },
   "outputs": [
    {
     "data": {
      "text/plain": [
       "'Juno (2007)'"
      ]
     },
     "execution_count": 70,
     "metadata": {},
     "output_type": "execute_result"
    }
   ],
   "source": [
    "# lets check the movie title in the query_index\n",
    "\n",
    "pvt_table1.index[query_index]"
   ]
  },
  {
   "cell_type": "code",
   "execution_count": 71,
   "id": "e855ffb3",
   "metadata": {
    "tags": []
   },
   "outputs": [
    {
     "data": {
      "text/plain": [
       "Index(['Little Miss Sunshine (2006)', 'Departed, The (2006)', 'WALL·E (2008)',\n",
       "       'Eternal Sunshine of the Spotless Mind (2004)', 'Iron Man (2008)',\n",
       "       'Dark Knight, The (2008)', 'Inception (2010)'],\n",
       "      dtype='object', name='title')"
      ]
     },
     "execution_count": 71,
     "metadata": {},
     "output_type": "execute_result"
    }
   ],
   "source": [
    "# These are the Recommended movies that I got\n",
    "pvt_table1.iloc[indices.flatten()].index[1:]"
   ]
  },
  {
   "cell_type": "code",
   "execution_count": 72,
   "id": "3f44490f",
   "metadata": {
    "tags": []
   },
   "outputs": [],
   "source": [
    "# made a Final Recommendation function\n",
    "def final_recommendations():\n",
    "    for i in range(0,len(distances.flatten())):\n",
    "        if i==0:\n",
    "            print('Recommendations for {0}'.format(pvt_table1.index[query_index]))\n",
    "            \n",
    "        else:\n",
    "            print('{} : {} , with a distance of {}'.format(i,pvt_table1.index[indices.flatten()[i]],distances.flatten()[i]))"
   ]
  },
  {
   "cell_type": "code",
   "execution_count": 73,
   "id": "a12f769d",
   "metadata": {
    "tags": []
   },
   "outputs": [
    {
     "name": "stdout",
     "output_type": "stream",
     "text": [
      "Recommendations for Juno (2007)\n",
      "1 : Little Miss Sunshine (2006) , with a distance of 0.3155110197532648\n",
      "2 : Departed, The (2006) , with a distance of 0.4926159910236173\n",
      "3 : WALL·E (2008) , with a distance of 0.5024583488263741\n",
      "4 : Eternal Sunshine of the Spotless Mind (2004) , with a distance of 0.5096661109286176\n",
      "5 : Iron Man (2008) , with a distance of 0.5215523573640473\n",
      "6 : Dark Knight, The (2008) , with a distance of 0.5272738949026978\n",
      "7 : Inception (2010) , with a distance of 0.5382409985835612\n"
     ]
    }
   ],
   "source": [
    "final_recommendations()"
   ]
  }
 ],
 "metadata": {
  "kernelspec": {
   "display_name": "Python 3 (ipykernel)",
   "language": "python",
   "name": "python3"
  },
  "language_info": {
   "codemirror_mode": {
    "name": "ipython",
    "version": 3
   },
   "file_extension": ".py",
   "mimetype": "text/x-python",
   "name": "python",
   "nbconvert_exporter": "python",
   "pygments_lexer": "ipython3",
   "version": "3.11.5"
  },
  "vscode": {
   "interpreter": {
    "hash": "31f2aee4e71d21fbe5cf8b01ff0e069b9275f58929596ceb00d14d90e3e16cd6"
   }
  }
 },
 "nbformat": 4,
 "nbformat_minor": 5
}
